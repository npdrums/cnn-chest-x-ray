{
  "nbformat": 4,
  "nbformat_minor": 0,
  "metadata": {
    "colab": {
      "name": "cnn-vgg16.ipynb",
      "provenance": [],
      "collapsed_sections": [],
      "toc_visible": true
    },
    "kernelspec": {
      "name": "python3",
      "display_name": "Python 3"
    },
    "accelerator": "GPU"
  },
  "cells": [
    {
      "cell_type": "markdown",
      "metadata": {
        "id": "4DUigskp37Ad"
      },
      "source": [
        "# Učitavanje train, valid, test skupova meta-podataka"
      ]
    },
    {
      "cell_type": "code",
      "metadata": {
        "colab": {
          "base_uri": "https://localhost:8080/"
        },
        "id": "vtQSRnVTUlZQ",
        "outputId": "47a133d8-3576-4314-aae2-28e42c88c632"
      },
      "source": [
        "from google.colab import drive\r\n",
        "drive.mount('/content/drive')"
      ],
      "execution_count": 85,
      "outputs": [
        {
          "output_type": "stream",
          "text": [
            "Drive already mounted at /content/drive; to attempt to forcibly remount, call drive.mount(\"/content/drive\", force_remount=True).\n"
          ],
          "name": "stdout"
        }
      ]
    },
    {
      "cell_type": "code",
      "metadata": {
        "id": "6FTBNWWuepJc"
      },
      "source": [
        "import tensorflow as tf\r\n",
        "tf.keras.backend.clear_session()"
      ],
      "execution_count": 316,
      "outputs": []
    },
    {
      "cell_type": "code",
      "metadata": {
        "id": "rpQEuVo_UTzv"
      },
      "source": [
        "import pandas as pd\r\n",
        "trainValDf = pd.read_csv('/content/drive/MyDrive/Colab Notebooks/datasets/nih-chest-x-ray-train.csv', sep=',', index_col=0)\r\n",
        "testDf = pd.read_csv('/content/drive/MyDrive/Colab Notebooks/datasets/nih-chest-x-ray-test.csv', sep=',', index_col=0)"
      ],
      "execution_count": 276,
      "outputs": []
    },
    {
      "cell_type": "code",
      "metadata": {
        "colab": {
          "base_uri": "https://localhost:8080/",
          "height": 204
        },
        "id": "uyZ4KyrCY1VY",
        "outputId": "12c7358c-a0ea-490b-ad78-81e078831eb0"
      },
      "source": [
        "trainValDf.head()"
      ],
      "execution_count": 277,
      "outputs": [
        {
          "output_type": "execute_result",
          "data": {
            "text/html": [
              "<div>\n",
              "<style scoped>\n",
              "    .dataframe tbody tr th:only-of-type {\n",
              "        vertical-align: middle;\n",
              "    }\n",
              "\n",
              "    .dataframe tbody tr th {\n",
              "        vertical-align: top;\n",
              "    }\n",
              "\n",
              "    .dataframe thead th {\n",
              "        text-align: right;\n",
              "    }\n",
              "</style>\n",
              "<table border=\"1\" class=\"dataframe\">\n",
              "  <thead>\n",
              "    <tr style=\"text-align: right;\">\n",
              "      <th></th>\n",
              "      <th>image_path</th>\n",
              "      <th>labels</th>\n",
              "    </tr>\n",
              "  </thead>\n",
              "  <tbody>\n",
              "    <tr>\n",
              "      <th>0</th>\n",
              "      <td>./content/images/00000001_000.png</td>\n",
              "      <td>Cardiomegaly</td>\n",
              "    </tr>\n",
              "    <tr>\n",
              "      <th>1</th>\n",
              "      <td>./content/images/00000001_001.png</td>\n",
              "      <td>Cardiomegaly</td>\n",
              "    </tr>\n",
              "    <tr>\n",
              "      <th>2</th>\n",
              "      <td>./content/images/00000001_002.png</td>\n",
              "      <td>Cardiomegaly</td>\n",
              "    </tr>\n",
              "    <tr>\n",
              "      <th>3</th>\n",
              "      <td>./content/images/00000002_000.png</td>\n",
              "      <td>No Finding</td>\n",
              "    </tr>\n",
              "    <tr>\n",
              "      <th>4</th>\n",
              "      <td>./content/images/00000004_000.png</td>\n",
              "      <td>Mass</td>\n",
              "    </tr>\n",
              "  </tbody>\n",
              "</table>\n",
              "</div>"
            ],
            "text/plain": [
              "                          image_path        labels\n",
              "0  ./content/images/00000001_000.png  Cardiomegaly\n",
              "1  ./content/images/00000001_001.png  Cardiomegaly\n",
              "2  ./content/images/00000001_002.png  Cardiomegaly\n",
              "3  ./content/images/00000002_000.png    No Finding\n",
              "4  ./content/images/00000004_000.png          Mass"
            ]
          },
          "metadata": {
            "tags": []
          },
          "execution_count": 277
        }
      ]
    },
    {
      "cell_type": "code",
      "metadata": {
        "id": "zCueQ4WnYjD_",
        "colab": {
          "base_uri": "https://localhost:8080/",
          "height": 204
        },
        "outputId": "e2192f8d-9c59-4c57-ec73-9b95c0202609"
      },
      "source": [
        "testDf.head()"
      ],
      "execution_count": 278,
      "outputs": [
        {
          "output_type": "execute_result",
          "data": {
            "text/html": [
              "<div>\n",
              "<style scoped>\n",
              "    .dataframe tbody tr th:only-of-type {\n",
              "        vertical-align: middle;\n",
              "    }\n",
              "\n",
              "    .dataframe tbody tr th {\n",
              "        vertical-align: top;\n",
              "    }\n",
              "\n",
              "    .dataframe thead th {\n",
              "        text-align: right;\n",
              "    }\n",
              "</style>\n",
              "<table border=\"1\" class=\"dataframe\">\n",
              "  <thead>\n",
              "    <tr style=\"text-align: right;\">\n",
              "      <th></th>\n",
              "      <th>image_path</th>\n",
              "      <th>labels</th>\n",
              "    </tr>\n",
              "  </thead>\n",
              "  <tbody>\n",
              "    <tr>\n",
              "      <th>0</th>\n",
              "      <td>./content/images/00000003_001.png</td>\n",
              "      <td>Hernia</td>\n",
              "    </tr>\n",
              "    <tr>\n",
              "      <th>1</th>\n",
              "      <td>./content/images/00000003_002.png</td>\n",
              "      <td>Hernia</td>\n",
              "    </tr>\n",
              "    <tr>\n",
              "      <th>2</th>\n",
              "      <td>./content/images/00000003_003.png</td>\n",
              "      <td>Hernia</td>\n",
              "    </tr>\n",
              "    <tr>\n",
              "      <th>3</th>\n",
              "      <td>./content/images/00000003_004.png</td>\n",
              "      <td>Hernia</td>\n",
              "    </tr>\n",
              "    <tr>\n",
              "      <th>4</th>\n",
              "      <td>./content/images/00000003_005.png</td>\n",
              "      <td>Hernia</td>\n",
              "    </tr>\n",
              "  </tbody>\n",
              "</table>\n",
              "</div>"
            ],
            "text/plain": [
              "                          image_path  labels\n",
              "0  ./content/images/00000003_001.png  Hernia\n",
              "1  ./content/images/00000003_002.png  Hernia\n",
              "2  ./content/images/00000003_003.png  Hernia\n",
              "3  ./content/images/00000003_004.png  Hernia\n",
              "4  ./content/images/00000003_005.png  Hernia"
            ]
          },
          "metadata": {
            "tags": []
          },
          "execution_count": 278
        }
      ]
    },
    {
      "cell_type": "markdown",
      "metadata": {
        "id": "ZgyZRJl_4G3L"
      },
      "source": [
        "# Pretprocesiranje skupa podataka"
      ]
    },
    {
      "cell_type": "code",
      "metadata": {
        "id": "FsNoHYYbVuwJ"
      },
      "source": [
        "IMAGE_SIZE = (224, 224)\r\n",
        "BATCH_SIZE = 16"
      ],
      "execution_count": 317,
      "outputs": []
    },
    {
      "cell_type": "code",
      "metadata": {
        "id": "kikb-Ld2h9cE"
      },
      "source": [
        "!unzip -qq /content/drive/MyDrive/images-nih-chest.zip"
      ],
      "execution_count": 6,
      "outputs": []
    },
    {
      "cell_type": "code",
      "metadata": {
        "colab": {
          "base_uri": "https://localhost:8080/"
        },
        "id": "sR68_JGWGV3F",
        "outputId": "290fd734-5b8a-4879-979e-6c8a1235c4a7"
      },
      "source": [
        "from tensorflow.keras.preprocessing.image import ImageDataGenerator\r\n",
        "\r\n",
        "trainDataGen = ImageDataGenerator(\r\n",
        "    rescale=1./255,\r\n",
        "    validation_split=0.2,\r\n",
        ")\r\n",
        "\r\n",
        "trainGenerator = trainDataGen.flow_from_dataframe(\r\n",
        "    trainValDf,\r\n",
        "    x_col=\"image_path\",\r\n",
        "    y_col=\"labels\",\r\n",
        "    target_size=IMAGE_SIZE,\r\n",
        "    color_mode=\"rgb\",\r\n",
        "    class_mode=\"categorical\",\r\n",
        "    batch_size=BATCH_SIZE,\r\n",
        "    shuffle=True,\r\n",
        "    subset=\"training\",\r\n",
        "    validate_filenames=True,   \r\n",
        ")\r\n",
        "\r\n",
        "validGenerator = trainDataGen.flow_from_dataframe(\r\n",
        "    trainValDf,\r\n",
        "    x_col=\"image_path\",\r\n",
        "    y_col=\"labels\",\r\n",
        "    target_size=IMAGE_SIZE,\r\n",
        "    color_mode=\"rgb\",\r\n",
        "    class_mode=\"categorical\",\r\n",
        "    batch_size=BATCH_SIZE,\r\n",
        "    shuffle=True,\r\n",
        "    subset=\"validation\",\r\n",
        "    validate_filenames=True\r\n",
        ")"
      ],
      "execution_count": 318,
      "outputs": [
        {
          "output_type": "stream",
          "text": [
            "Found 69220 validated image filenames belonging to 15 classes.\n",
            "Found 17304 validated image filenames belonging to 15 classes.\n"
          ],
          "name": "stdout"
        }
      ]
    },
    {
      "cell_type": "code",
      "metadata": {
        "id": "Fqn93V6odgsb"
      },
      "source": [
        "from sklearn.utils import class_weight\r\n",
        "import numpy as np\r\n",
        "\r\n",
        "class_weights = class_weight.compute_class_weight(\r\n",
        "               'balanced',\r\n",
        "                np.unique(trainGenerator.classes), \r\n",
        "                trainGenerator.classes)\r\n",
        "\r\n",
        "class_weights = dict(enumerate(class_weights))"
      ],
      "execution_count": 319,
      "outputs": []
    },
    {
      "cell_type": "markdown",
      "metadata": {
        "id": "G0bxtPMuGZkO"
      },
      "source": [
        "# Kreiranje modela modifikacijom VGG-16 modela (eng. *Transfer Learning*) uz  fino podešavanje (eng. *Fine Tuning*)"
      ]
    },
    {
      "cell_type": "code",
      "metadata": {
        "id": "DfRQXdy2Gf5T"
      },
      "source": [
        "from tensorflow.keras.models import Model, Sequential\r\n",
        "from tensorflow.keras.layers import Dense, Flatten, Dropout\r\n",
        "from tensorflow.keras.applications import VGG16\r\n",
        "from tensorflow.keras.applications.vgg16 import preprocess_input, decode_predictions\r\n",
        "from tensorflow.keras.optimizers import Adam"
      ],
      "execution_count": 320,
      "outputs": []
    },
    {
      "cell_type": "code",
      "metadata": {
        "colab": {
          "base_uri": "https://localhost:8080/"
        },
        "id": "xzMHrqzDncc7",
        "outputId": "a8310222-4870-4ecb-dbce-7c3524bf7ca8"
      },
      "source": [
        "vgg16 = VGG16(include_top=True, weights='imagenet')\r\n",
        "vgg16.summary()"
      ],
      "execution_count": 321,
      "outputs": [
        {
          "output_type": "stream",
          "text": [
            "Model: \"vgg16\"\n",
            "_________________________________________________________________\n",
            "Layer (type)                 Output Shape              Param #   \n",
            "=================================================================\n",
            "input_1 (InputLayer)         [(None, 224, 224, 3)]     0         \n",
            "_________________________________________________________________\n",
            "block1_conv1 (Conv2D)        (None, 224, 224, 64)      1792      \n",
            "_________________________________________________________________\n",
            "block1_conv2 (Conv2D)        (None, 224, 224, 64)      36928     \n",
            "_________________________________________________________________\n",
            "block1_pool (MaxPooling2D)   (None, 112, 112, 64)      0         \n",
            "_________________________________________________________________\n",
            "block2_conv1 (Conv2D)        (None, 112, 112, 128)     73856     \n",
            "_________________________________________________________________\n",
            "block2_conv2 (Conv2D)        (None, 112, 112, 128)     147584    \n",
            "_________________________________________________________________\n",
            "block2_pool (MaxPooling2D)   (None, 56, 56, 128)       0         \n",
            "_________________________________________________________________\n",
            "block3_conv1 (Conv2D)        (None, 56, 56, 256)       295168    \n",
            "_________________________________________________________________\n",
            "block3_conv2 (Conv2D)        (None, 56, 56, 256)       590080    \n",
            "_________________________________________________________________\n",
            "block3_conv3 (Conv2D)        (None, 56, 56, 256)       590080    \n",
            "_________________________________________________________________\n",
            "block3_pool (MaxPooling2D)   (None, 28, 28, 256)       0         \n",
            "_________________________________________________________________\n",
            "block4_conv1 (Conv2D)        (None, 28, 28, 512)       1180160   \n",
            "_________________________________________________________________\n",
            "block4_conv2 (Conv2D)        (None, 28, 28, 512)       2359808   \n",
            "_________________________________________________________________\n",
            "block4_conv3 (Conv2D)        (None, 28, 28, 512)       2359808   \n",
            "_________________________________________________________________\n",
            "block4_pool (MaxPooling2D)   (None, 14, 14, 512)       0         \n",
            "_________________________________________________________________\n",
            "block5_conv1 (Conv2D)        (None, 14, 14, 512)       2359808   \n",
            "_________________________________________________________________\n",
            "block5_conv2 (Conv2D)        (None, 14, 14, 512)       2359808   \n",
            "_________________________________________________________________\n",
            "block5_conv3 (Conv2D)        (None, 14, 14, 512)       2359808   \n",
            "_________________________________________________________________\n",
            "block5_pool (MaxPooling2D)   (None, 7, 7, 512)         0         \n",
            "_________________________________________________________________\n",
            "flatten (Flatten)            (None, 25088)             0         \n",
            "_________________________________________________________________\n",
            "fc1 (Dense)                  (None, 4096)              102764544 \n",
            "_________________________________________________________________\n",
            "fc2 (Dense)                  (None, 4096)              16781312  \n",
            "_________________________________________________________________\n",
            "predictions (Dense)          (None, 1000)              4097000   \n",
            "=================================================================\n",
            "Total params: 138,357,544\n",
            "Trainable params: 138,357,544\n",
            "Non-trainable params: 0\n",
            "_________________________________________________________________\n"
          ],
          "name": "stdout"
        }
      ]
    },
    {
      "cell_type": "code",
      "metadata": {
        "colab": {
          "base_uri": "https://localhost:8080/"
        },
        "id": "3WfBdY9buJHH",
        "outputId": "b22f2c1a-e26f-453e-b70c-95d59edd4c15"
      },
      "source": [
        "transferLayer = vgg16.get_layer('block5_pool')\r\n",
        "transferLayer.output"
      ],
      "execution_count": 322,
      "outputs": [
        {
          "output_type": "execute_result",
          "data": {
            "text/plain": [
              "<KerasTensor: shape=(None, 7, 7, 512) dtype=float32 (created by layer 'block5_pool')>"
            ]
          },
          "metadata": {
            "tags": []
          },
          "execution_count": 322
        }
      ]
    },
    {
      "cell_type": "code",
      "metadata": {
        "id": "i37pz_EVum8e"
      },
      "source": [
        "vgg16conv = Model(inputs=vgg16.input, outputs=transferLayer.output)"
      ],
      "execution_count": 323,
      "outputs": []
    },
    {
      "cell_type": "code",
      "metadata": {
        "colab": {
          "base_uri": "https://localhost:8080/"
        },
        "id": "sHjmNM-gwW2C",
        "outputId": "54230582-b672-47b5-a122-89c370e5f9fe"
      },
      "source": [
        "for layer in vgg16conv.layers:\r\n",
        "  print(\"{0}:\\t{1}\".format(layer.trainable, layer.name))"
      ],
      "execution_count": 324,
      "outputs": [
        {
          "output_type": "stream",
          "text": [
            "True:\tinput_1\n",
            "True:\tblock1_conv1\n",
            "True:\tblock1_conv2\n",
            "True:\tblock1_pool\n",
            "True:\tblock2_conv1\n",
            "True:\tblock2_conv2\n",
            "True:\tblock2_pool\n",
            "True:\tblock3_conv1\n",
            "True:\tblock3_conv2\n",
            "True:\tblock3_conv3\n",
            "True:\tblock3_pool\n",
            "True:\tblock4_conv1\n",
            "True:\tblock4_conv2\n",
            "True:\tblock4_conv3\n",
            "True:\tblock4_pool\n",
            "True:\tblock5_conv1\n",
            "True:\tblock5_conv2\n",
            "True:\tblock5_conv3\n",
            "True:\tblock5_pool\n"
          ],
          "name": "stdout"
        }
      ]
    },
    {
      "cell_type": "code",
      "metadata": {
        "id": "QPopaDVhwh-J"
      },
      "source": [
        "vgg16conv.trainable = False"
      ],
      "execution_count": 325,
      "outputs": []
    },
    {
      "cell_type": "code",
      "metadata": {
        "id": "EPCQj1Kny4gP"
      },
      "source": [
        "for layer in vgg16conv.layers:\r\n",
        "  trainable=('block4' in layer.name or 'block5' in layer.name)\r\n",
        "  layer.trainable = trainable"
      ],
      "execution_count": 326,
      "outputs": []
    },
    {
      "cell_type": "code",
      "metadata": {
        "colab": {
          "base_uri": "https://localhost:8080/"
        },
        "id": "pJ9cU21kzXyk",
        "outputId": "9eccf7df-6e26-481d-e98c-ca2d0ca589c0"
      },
      "source": [
        "for layer in vgg16conv.layers:\r\n",
        "  print(\"{0}:\\t{1}\".format(layer.trainable, layer.name))"
      ],
      "execution_count": 327,
      "outputs": [
        {
          "output_type": "stream",
          "text": [
            "False:\tinput_1\n",
            "False:\tblock1_conv1\n",
            "False:\tblock1_conv2\n",
            "False:\tblock1_pool\n",
            "False:\tblock2_conv1\n",
            "False:\tblock2_conv2\n",
            "False:\tblock2_pool\n",
            "False:\tblock3_conv1\n",
            "False:\tblock3_conv2\n",
            "False:\tblock3_conv3\n",
            "False:\tblock3_pool\n",
            "True:\tblock4_conv1\n",
            "True:\tblock4_conv2\n",
            "True:\tblock4_conv3\n",
            "True:\tblock4_pool\n",
            "True:\tblock5_conv1\n",
            "True:\tblock5_conv2\n",
            "True:\tblock5_conv3\n",
            "True:\tblock5_pool\n"
          ],
          "name": "stdout"
        }
      ]
    },
    {
      "cell_type": "code",
      "metadata": {
        "id": "czCNLgxiuxKZ"
      },
      "source": [
        "model = Sequential()\r\n",
        "model.add(vgg16conv)\r\n",
        "model.add(Flatten())\r\n",
        "model.add(Dense(1024, activation='relu'))\r\n",
        "model.add(Dropout(0.5))\r\n",
        "model.add(Dense(15, activation='softmax'))"
      ],
      "execution_count": 328,
      "outputs": []
    },
    {
      "cell_type": "code",
      "metadata": {
        "colab": {
          "base_uri": "https://localhost:8080/"
        },
        "id": "zux6EzOELm3D",
        "outputId": "b6b07a4f-08f8-4c08-f1ab-5b2f870cd98a"
      },
      "source": [
        "for layer in model.layers:\r\n",
        "  print(\"{0}:\\t{1}\".format(layer.trainable, layer.name))"
      ],
      "execution_count": 329,
      "outputs": [
        {
          "output_type": "stream",
          "text": [
            "False:\tmodel\n",
            "True:\tflatten\n",
            "True:\tdense\n",
            "True:\tdropout\n",
            "True:\tdense_1\n"
          ],
          "name": "stdout"
        }
      ]
    },
    {
      "cell_type": "markdown",
      "metadata": {
        "id": "FvqbWfJnIYrq"
      },
      "source": [
        "# Kompilacija modela"
      ]
    },
    {
      "cell_type": "code",
      "metadata": {
        "id": "A15jzW96zgxv"
      },
      "source": [
        "model.compile(\r\n",
        "    loss = 'categorical_crossentropy', \r\n",
        "    optimizer = 'adam', \r\n",
        "    metrics = ['accuracy'],\r\n",
        ")"
      ],
      "execution_count": 330,
      "outputs": []
    },
    {
      "cell_type": "markdown",
      "metadata": {
        "id": "mzs2nfy-IzX-"
      },
      "source": [
        "# Treniranje modela"
      ]
    },
    {
      "cell_type": "code",
      "metadata": {
        "id": "ktxRfjz2Dimw"
      },
      "source": [
        "from tensorflow.keras.callbacks import ModelCheckpoint, EarlyStopping\r\n",
        "\r\n",
        "checkpointCB = ModelCheckpoint(\"vgg16-chest-x-ray.h5\", save_best_only=True)\r\n",
        "\r\n",
        "earlyStoppingCB = EarlyStopping(\r\n",
        "    patience=10, restore_best_weights=True\r\n",
        ")"
      ],
      "execution_count": 331,
      "outputs": []
    },
    {
      "cell_type": "code",
      "metadata": {
        "colab": {
          "base_uri": "https://localhost:8080/"
        },
        "id": "d8UuhkT_zcKH",
        "outputId": "7975fa47-caad-4267-e98f-3ab3d4e66838"
      },
      "source": [
        "history = model.fit(\r\n",
        "      trainGenerator,\r\n",
        "      epochs=20,\r\n",
        "      steps_per_epoch=trainGenerator.samples // BATCH_SIZE,\r\n",
        "      validation_data=validGenerator,\r\n",
        "      validation_steps=validGenerator.samples // BATCH_SIZE,\r\n",
        "      class_weight=class_weights,\r\n",
        "      callbacks=[checkpointCB, earlyStoppingCB]\r\n",
        "    )"
      ],
      "execution_count": 332,
      "outputs": [
        {
          "output_type": "stream",
          "text": [
            "Epoch 1/20\n",
            "4326/4326 [==============================] - 206s 48ms/step - loss: 3.6040 - accuracy: 0.0412 - val_loss: 2.7056 - val_accuracy: 0.0027\n",
            "Epoch 2/20\n",
            "4326/4326 [==============================] - 206s 48ms/step - loss: 2.6144 - accuracy: 0.1802 - val_loss: 2.7315 - val_accuracy: 0.0028\n",
            "Epoch 3/20\n",
            "4326/4326 [==============================] - 206s 48ms/step - loss: 2.7382 - accuracy: 0.0107 - val_loss: 2.7026 - val_accuracy: 0.0273\n",
            "Epoch 4/20\n",
            "4326/4326 [==============================] - 206s 48ms/step - loss: 2.7344 - accuracy: 0.0531 - val_loss: 2.7129 - val_accuracy: 0.0027\n",
            "Epoch 5/20\n",
            "4326/4326 [==============================] - 206s 48ms/step - loss: 2.6912 - accuracy: 0.0186 - val_loss: 2.7056 - val_accuracy: 0.0087\n",
            "Epoch 6/20\n",
            "4326/4326 [==============================] - 205s 47ms/step - loss: 2.7099 - accuracy: 0.0168 - val_loss: 2.7011 - val_accuracy: 0.0129\n",
            "Epoch 7/20\n",
            "4326/4326 [==============================] - 206s 48ms/step - loss: 2.7164 - accuracy: 0.0131 - val_loss: 2.7002 - val_accuracy: 0.0176\n",
            "Epoch 8/20\n",
            "4326/4326 [==============================] - 205s 47ms/step - loss: 2.7082 - accuracy: 0.0349 - val_loss: 2.7024 - val_accuracy: 0.0506\n",
            "Epoch 9/20\n",
            "4326/4326 [==============================] - 206s 48ms/step - loss: 2.7273 - accuracy: 0.0168 - val_loss: 2.7037 - val_accuracy: 0.0027\n",
            "Epoch 10/20\n",
            "4326/4326 [==============================] - 206s 48ms/step - loss: 2.7044 - accuracy: 0.0182 - val_loss: 2.7078 - val_accuracy: 0.0121\n",
            "Epoch 11/20\n",
            "4326/4326 [==============================] - 206s 48ms/step - loss: 2.7351 - accuracy: 0.0218 - val_loss: 2.7005 - val_accuracy: 0.0176\n",
            "Epoch 12/20\n",
            "4326/4326 [==============================] - 206s 48ms/step - loss: 2.6814 - accuracy: 0.0265 - val_loss: 2.6998 - val_accuracy: 0.0162\n",
            "Epoch 13/20\n",
            "4326/4326 [==============================] - 205s 47ms/step - loss: 2.7025 - accuracy: 0.0398 - val_loss: 2.7134 - val_accuracy: 0.0184\n",
            "Epoch 14/20\n",
            "4326/4326 [==============================] - 206s 48ms/step - loss: 2.7181 - accuracy: 0.0136 - val_loss: 2.7023 - val_accuracy: 0.0187\n",
            "Epoch 15/20\n",
            "4326/4326 [==============================] - 206s 48ms/step - loss: 2.6571 - accuracy: 0.0308 - val_loss: 2.7077 - val_accuracy: 0.0121\n",
            "Epoch 16/20\n",
            "4326/4326 [==============================] - 205s 47ms/step - loss: 2.7187 - accuracy: 0.0087 - val_loss: 2.7034 - val_accuracy: 0.0776\n",
            "Epoch 17/20\n",
            "4326/4326 [==============================] - 206s 48ms/step - loss: 2.7125 - accuracy: 0.0313 - val_loss: 2.7014 - val_accuracy: 0.0121\n",
            "Epoch 18/20\n",
            "4326/4326 [==============================] - 206s 48ms/step - loss: 2.6760 - accuracy: 0.0533 - val_loss: 2.7106 - val_accuracy: 0.0506\n",
            "Epoch 19/20\n",
            "4326/4326 [==============================] - 206s 48ms/step - loss: 2.7889 - accuracy: 0.0521 - val_loss: 2.7029 - val_accuracy: 0.0230\n",
            "Epoch 20/20\n",
            "4326/4326 [==============================] - 206s 48ms/step - loss: 2.7011 - accuracy: 0.0306 - val_loss: 2.7149 - val_accuracy: 0.0128\n"
          ],
          "name": "stdout"
        }
      ]
    },
    {
      "cell_type": "code",
      "metadata": {
        "id": "nPBfqd3Mivm2"
      },
      "source": [
        "while True:pass # This prevents Colab from disconnecting the session"
      ],
      "execution_count": null,
      "outputs": []
    },
    {
      "cell_type": "markdown",
      "metadata": {
        "id": "7skIIWSXK80P"
      },
      "source": [
        "# Rezultati treniranja"
      ]
    },
    {
      "cell_type": "code",
      "metadata": {
        "id": "l3a8-gIoLENI"
      },
      "source": [
        "import matplotlib.pyplot as plt\r\n",
        "\r\n",
        "def plotHistory(history):\r\n",
        "  plt.subplots(figsize=(14,7))\r\n",
        "  plt.plot(history.history[\"accuracy\"])\r\n",
        "  plt.plot(history.history['val_accuracy'])\r\n",
        "  plt.plot(history.history['loss'])\r\n",
        "  plt.plot(history.history['val_loss'])\r\n",
        "  plt.title(\"model accuracy\")\r\n",
        "  plt.ylabel(\"Accuracy\")\r\n",
        "  plt.xlabel(\"Epoch\")\r\n",
        "  plt.legend([\"Accuracy\",\"Validation Accuracy\",\"loss\",\"Validation Loss\"])\r\n",
        "  plt.show()"
      ],
      "execution_count": 338,
      "outputs": []
    },
    {
      "cell_type": "code",
      "metadata": {
        "colab": {
          "base_uri": "https://localhost:8080/",
          "height": 458
        },
        "id": "deQzCKg3Ll9K",
        "outputId": "6bf8fc2d-647e-42d0-a609-09c69b147a90"
      },
      "source": [
        "plotHistory(history)"
      ],
      "execution_count": 339,
      "outputs": [
        {
          "output_type": "display_data",
          "data": {
            "image/png": "[encoded data removed]",
            "text/plain": [
              "<Figure size 1008x504 with 1 Axes>"
            ]
          },
          "metadata": {
            "tags": [],
            "needs_background": "light"
          }
        }
      ]
    },
    {
      "cell_type": "markdown",
      "metadata": {
        "id": "bnCnq4gzLAHd"
      },
      "source": [
        "# Rezultati evaluacije"
      ]
    },
    {
      "cell_type": "code",
      "metadata": {
        "colab": {
          "base_uri": "https://localhost:8080/"
        },
        "id": "Y5Lf20OUs-gs",
        "outputId": "d987ceef-33d7-4cf2-cfd2-f8f317e4ea25"
      },
      "source": [
        "testDataGen = ImageDataGenerator(\r\n",
        "    rescale=1./255,\r\n",
        "    validation_split=0.2,\r\n",
        ")\r\n",
        "\r\n",
        "testGenerator = testDataGen.flow_from_dataframe(\r\n",
        "    testDf,\r\n",
        "    x_col=\"image_path\",\r\n",
        "    y_col=\"labels\",\r\n",
        "    target_size=IMAGE_SIZE,\r\n",
        "    color_mode=\"rgb\",\r\n",
        "    class_mode=\"categorical\",\r\n",
        "    batch_size=BATCH_SIZE,\r\n",
        "    shuffle=True,\r\n",
        "    validate_filenames=True\r\n",
        ")"
      ],
      "execution_count": 340,
      "outputs": [
        {
          "output_type": "stream",
          "text": [
            "Found 25596 validated image filenames belonging to 15 classes.\n"
          ],
          "name": "stdout"
        }
      ]
    },
    {
      "cell_type": "code",
      "metadata": {
        "colab": {
          "base_uri": "https://localhost:8080/"
        },
        "id": "TDADuXPBs0sN",
        "outputId": "007351f4-5b1d-4eda-eb8e-e702d193663b"
      },
      "source": [
        "results = model.evaluate(testGenerator, steps=testGenerator.samples // BATCH_SIZE)"
      ],
      "execution_count": 341,
      "outputs": [
        {
          "output_type": "stream",
          "text": [
            "1599/1599 [==============================] - 70s 44ms/step - loss: 2.7135 - accuracy: 0.0299\n"
          ],
          "name": "stdout"
        }
      ]
    },
    {
      "cell_type": "code",
      "metadata": {
        "colab": {
          "base_uri": "https://localhost:8080/"
        },
        "id": "bK88FNKvuPwy",
        "outputId": "f9a179b0-7518-440e-925c-252a57ef94ac"
      },
      "source": [
        "print(\"Accuracy on test set: {0:.2%}\".format(results[1]))"
      ],
      "execution_count": 344,
      "outputs": [
        {
          "output_type": "stream",
          "text": [
            "Accuracy on test set: 2.99%\n"
          ],
          "name": "stdout"
        }
      ]
    },
    {
      "cell_type": "markdown",
      "metadata": {
        "id": "iKv7QAKSmxcu"
      },
      "source": [
        "# Dodatak: Neuspešan *custom* model\r\n",
        "\r\n",
        "Isprobano je nekoliko nezavisnih modela koji nisu davali dobre rezultate tokom treniranja u 100 epoha."
      ]
    },
    {
      "cell_type": "code",
      "metadata": {
        "id": "F03_M52vyua8",
        "colab": {
          "base_uri": "https://localhost:8080/"
        },
        "outputId": "46a8d37e-7905-49c2-a7a3-192ebff83756"
      },
      "source": [
        "# def create_model():\r\n",
        "#   model = Sequential()\r\n",
        "#   model.add(Conv2D(32, (3, 3), input_shape=(150, 150, 3), strides=(1,1)))\r\n",
        "#   model.add(Activation('relu'))\r\n",
        "#   model.add(Conv2D(32, (3, 3), strides=(1,1)))\r\n",
        "#   model.add(Activation('relu'))\r\n",
        "#   model.add(MaxPooling2D(pool_size=(2, 2), strides=(2,2)))\r\n",
        "\r\n",
        "#   model.add(Conv2D(64, (3, 3), strides=(1,1)))\r\n",
        "#   model.add(Activation('relu'))\r\n",
        "#   model.add(Conv2D(64, (3, 3), strides=(1,1)))\r\n",
        "#   model.add(Activation('relu'))\r\n",
        "#   model.add(Conv2D(64, (3, 3), strides=(1,1)))\r\n",
        "#   model.add(Activation('relu'))\r\n",
        "#   model.add(MaxPooling2D(pool_size=(2, 2), strides=(2,2)))\r\n",
        "\r\n",
        "#   model.add(Conv2D(128, (3, 3), strides=(1,1)))\r\n",
        "#   model.add(Activation('relu'))\r\n",
        "#   model.add(Conv2D(128, (3, 3), strides=(1,1)))\r\n",
        "#   model.add(Activation('relu'))\r\n",
        "#   model.add(Conv2D(128, (3, 3), strides=(1,1)))\r\n",
        "#   model.add(Activation('relu'))\r\n",
        "#   model.add(MaxPooling2D(pool_size=(2, 2), strides=(2,2)))\r\n",
        "\r\n",
        "#   model.add(Conv2D(256, (3, 3), strides=(1,1)))\r\n",
        "#   model.add(Activation('relu'))\r\n",
        "#   model.add(Conv2D(256, (3, 3), strides=(1,1)))\r\n",
        "#   model.add(Activation('relu'))\r\n",
        "#   model.add(Conv2D(256, (3, 3), strides=(1,1)))\r\n",
        "#   model.add(Activation('relu'))\r\n",
        "#   model.add(MaxPooling2D(pool_size=(2, 2), strides=(2,2)))\r\n",
        "\r\n",
        "#   model.add(Flatten())\r\n",
        "\r\n",
        "#   model.add(Dense(1024))\r\n",
        "#   model.add(Activation('relu'))\r\n",
        "#   model.add(Dropout(0.5))\r\n",
        "  \r\n",
        "#   model.add(Dense(1024))\r\n",
        "#   model.add(Activation('relu'))\r\n",
        "#   model.add(Dropout(0.5))\r\n",
        "#   model.add(Dense(15))\r\n",
        "#   model.add(Activation('softmax'))\r\n",
        "  \r\n",
        "#   return model\r\n",
        "\r\n",
        "# create_model().summary()"
      ],
      "execution_count": 221,
      "outputs": [
        {
          "output_type": "stream",
          "text": [
            "Model: \"sequential\"\n",
            "_________________________________________________________________\n",
            "Layer (type)                 Output Shape              Param #   \n",
            "=================================================================\n",
            "conv2d (Conv2D)              (None, 148, 148, 32)      896       \n",
            "_________________________________________________________________\n",
            "activation (Activation)      (None, 148, 148, 32)      0         \n",
            "_________________________________________________________________\n",
            "conv2d_1 (Conv2D)            (None, 146, 146, 32)      9248      \n",
            "_________________________________________________________________\n",
            "activation_1 (Activation)    (None, 146, 146, 32)      0         \n",
            "_________________________________________________________________\n",
            "max_pooling2d (MaxPooling2D) (None, 73, 73, 32)        0         \n",
            "_________________________________________________________________\n",
            "conv2d_2 (Conv2D)            (None, 71, 71, 64)        18496     \n",
            "_________________________________________________________________\n",
            "activation_2 (Activation)    (None, 71, 71, 64)        0         \n",
            "_________________________________________________________________\n",
            "conv2d_3 (Conv2D)            (None, 69, 69, 64)        36928     \n",
            "_________________________________________________________________\n",
            "activation_3 (Activation)    (None, 69, 69, 64)        0         \n",
            "_________________________________________________________________\n",
            "conv2d_4 (Conv2D)            (None, 67, 67, 64)        36928     \n",
            "_________________________________________________________________\n",
            "activation_4 (Activation)    (None, 67, 67, 64)        0         \n",
            "_________________________________________________________________\n",
            "max_pooling2d_1 (MaxPooling2 (None, 33, 33, 64)        0         \n",
            "_________________________________________________________________\n",
            "conv2d_5 (Conv2D)            (None, 31, 31, 128)       73856     \n",
            "_________________________________________________________________\n",
            "activation_5 (Activation)    (None, 31, 31, 128)       0         \n",
            "_________________________________________________________________\n",
            "conv2d_6 (Conv2D)            (None, 29, 29, 128)       147584    \n",
            "_________________________________________________________________\n",
            "activation_6 (Activation)    (None, 29, 29, 128)       0         \n",
            "_________________________________________________________________\n",
            "conv2d_7 (Conv2D)            (None, 27, 27, 128)       147584    \n",
            "_________________________________________________________________\n",
            "activation_7 (Activation)    (None, 27, 27, 128)       0         \n",
            "_________________________________________________________________\n",
            "max_pooling2d_2 (MaxPooling2 (None, 13, 13, 128)       0         \n",
            "_________________________________________________________________\n",
            "conv2d_8 (Conv2D)            (None, 11, 11, 256)       295168    \n",
            "_________________________________________________________________\n",
            "activation_8 (Activation)    (None, 11, 11, 256)       0         \n",
            "_________________________________________________________________\n",
            "conv2d_9 (Conv2D)            (None, 9, 9, 256)         590080    \n",
            "_________________________________________________________________\n",
            "activation_9 (Activation)    (None, 9, 9, 256)         0         \n",
            "_________________________________________________________________\n",
            "conv2d_10 (Conv2D)           (None, 7, 7, 256)         590080    \n",
            "_________________________________________________________________\n",
            "activation_10 (Activation)   (None, 7, 7, 256)         0         \n",
            "_________________________________________________________________\n",
            "max_pooling2d_3 (MaxPooling2 (None, 3, 3, 256)         0         \n",
            "_________________________________________________________________\n",
            "flatten (Flatten)            (None, 2304)              0         \n",
            "_________________________________________________________________\n",
            "dense (Dense)                (None, 1024)              2360320   \n",
            "_________________________________________________________________\n",
            "activation_11 (Activation)   (None, 1024)              0         \n",
            "_________________________________________________________________\n",
            "dropout (Dropout)            (None, 1024)              0         \n",
            "_________________________________________________________________\n",
            "dense_1 (Dense)              (None, 1024)              1049600   \n",
            "_________________________________________________________________\n",
            "activation_12 (Activation)   (None, 1024)              0         \n",
            "_________________________________________________________________\n",
            "dropout_1 (Dropout)          (None, 1024)              0         \n",
            "_________________________________________________________________\n",
            "dense_2 (Dense)              (None, 15)                15375     \n",
            "_________________________________________________________________\n",
            "activation_13 (Activation)   (None, 15)                0         \n",
            "=================================================================\n",
            "Total params: 5,372,143\n",
            "Trainable params: 5,372,143\n",
            "Non-trainable params: 0\n",
            "_________________________________________________________________\n"
          ],
          "name": "stdout"
        }
      ]
    },
    {
      "cell_type": "markdown",
      "metadata": {
        "id": "RMwiinTBlHDE"
      },
      "source": [
        "# Dodatak: Treniranje modela na TPU\r\n",
        "\r\n",
        "Google Colab je okruženje koje pruža hardver različitih performansi za rad. Naredni kod koji je dat pod komentarima je pokušaj konfigurisanja skupa podataka, kao i celokupnog okruženja za rad sa TPU hardverom, međutim, zbog korišćenja *ImageDataGenerator* klase, generatori su morali da budu \"obavijeni\" u *tensorflow* Dataset, ali je ovaj pokušaj bio neuspešan. Uvidom u *issue* sekciju Tensorflow GitHub repozitorijuma, kao i nekoliko odgovora pronađenih na StackOverflow stranici, utvrđeno je da postoji *bug* koji se javlja mnogim korisnicima i da do datuma (1.2.2021.) izrade ovog rada nije uspešno rešen. ([1](https://github.com/tensorflow/tensorflow/issues/34346), [2](https://stackoverflow.com/questions/52636127/how-to-use-keras-generator-with-tf-data-api), [**3**](https://stackoverflow.com/questions/63846264/how-to-use-tpu-on-kaggle-colab-with-imagedatagenerator))"
      ]
    },
    {
      "cell_type": "code",
      "metadata": {
        "id": "_OrW1g-RacbL"
      },
      "source": [
        "# Wrapping the keras generator\r\n",
        "# trainDS = tf.data.Dataset.from_generator(\r\n",
        "#     lambda: trainGenerator,\r\n",
        "#     output_types=(tf.float32, tf.float32),\r\n",
        "#     output_shapes = ([BATCH_SIZE,224,224,3],\r\n",
        "#                      [BATCH_SIZE,15])\r\n",
        "#     )\r\n",
        "\r\n",
        "# validDS = tf.data.Dataset.from_generator(\r\n",
        "#     lambda: validGenerator,\r\n",
        "#     output_types=(tf.float32, tf.float32),\r\n",
        "#     output_shapes = ([BATCH_SIZE,224,224,3],\r\n",
        "#                      [BATCH_SIZE,15])\r\n",
        "#     )"
      ],
      "execution_count": 15,
      "outputs": []
    },
    {
      "cell_type": "code",
      "metadata": {
        "id": "JEmyLu6g4G2z"
      },
      "source": [
        "# import re\r\n",
        "# import os\r\n",
        "# import random\r\n",
        "# import numpy as np\r\n",
        "# import pandas as pd\r\n",
        "# import tensorflow as tf\r\n",
        "# import matplotlib.pyplot as plt\r\n",
        "\r\n",
        "# tpu = tf.distribute.cluster_resolver.TPUClusterResolver()  # TPU detection\r\n",
        "# print('Running on TPU ', tpu.cluster_spec().as_dict()['worker'])\r\n",
        "\r\n",
        "# tf.config.experimental_connect_to_cluster(tpu)\r\n",
        "# tf.tpu.experimental.initialize_tpu_system(tpu)\r\n",
        "# strategy = tf.distribute.experimental.TPUStrategy(tpu)\r\n",
        "\r\n",
        "# print(\"REPLICAS: \", strategy.num_replicas_in_sync)"
      ],
      "execution_count": 16,
      "outputs": []
    },
    {
      "cell_type": "code",
      "metadata": {
        "id": "r6PU6_njkCZb"
      },
      "source": [
        "# with strategy.scope():\r\n",
        "#   model = create_model()\r\n",
        "#       loss = 'categorical_crossentropy', \r\n",
        "#       optimizer = Adam(learning_rate=0.0001), \r\n",
        "#       metrics = ['accuracy'],\r\n",
        "#       steps_per_execution = 50,\r\n",
        "#   )"
      ],
      "execution_count": 17,
      "outputs": []
    }
  ]
}