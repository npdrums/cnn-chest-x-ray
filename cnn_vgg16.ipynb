{
  "nbformat": 4,
  "nbformat_minor": 0,
  "metadata": {
    "colab": {
      "name": "cnn-vgg16.ipynb",
      "provenance": [],
      "collapsed_sections": [],
      "toc_visible": true
    },
    "kernelspec": {
      "name": "python3",
      "display_name": "Python 3"
    },
    "accelerator": "GPU"
  },
  "cells": [
    {
      "cell_type": "markdown",
      "metadata": {
        "id": "4DUigskp37Ad"
      },
      "source": [
        "# Učitavanje train, valid, test skupova meta-podataka"
      ]
    },
    {
      "cell_type": "code",
      "metadata": {
        "colab": {
          "base_uri": "https://localhost:8080/"
        },
        "id": "vtQSRnVTUlZQ",
        "outputId": "b93a67d3-0ae4-4bde-8d81-98a5b0d40068"
      },
      "source": [
        "from google.colab import drive\r\n",
        "drive.mount('/content/drive')"
      ],
      "execution_count": 1,
      "outputs": [
        {
          "output_type": "stream",
          "text": [
            "Mounted at /content/drive\n"
          ],
          "name": "stdout"
        }
      ]
    },
    {
      "cell_type": "code",
      "metadata": {
        "id": "6FTBNWWuepJc"
      },
      "source": [
        "import tensorflow as tf\r\n",
        "tf.keras.backend.clear_session()"
      ],
      "execution_count": 2,
      "outputs": []
    },
    {
      "cell_type": "code",
      "metadata": {
        "id": "rpQEuVo_UTzv"
      },
      "source": [
        "import pandas as pd\r\n",
        "trainDf = pd.read_csv('/content/drive/MyDrive/Colab Notebooks/datasets/nih-chest-x-ray-train.csv', sep=',', index_col=0)\r\n",
        "validDf = pd.read_csv('/content/drive/MyDrive/Colab Notebooks/datasets/nih-chest-x-ray-valid.csv', sep=',', index_col=0)\r\n",
        "testDf = pd.read_csv('/content/drive/MyDrive/Colab Notebooks/datasets/nih-chest-x-ray-test.csv', sep=',', index_col=0)"
      ],
      "execution_count": 3,
      "outputs": []
    },
    {
      "cell_type": "code",
      "metadata": {
        "colab": {
          "base_uri": "https://localhost:8080/",
          "height": 197
        },
        "id": "uyZ4KyrCY1VY",
        "outputId": "0c0a0234-71f0-4314-bfee-dfef5fec6caa"
      },
      "source": [
        "trainDf.head()"
      ],
      "execution_count": 4,
      "outputs": [
        {
          "output_type": "execute_result",
          "data": {
            "text/html": [
              "<div>\n",
              "<style scoped>\n",
              "    .dataframe tbody tr th:only-of-type {\n",
              "        vertical-align: middle;\n",
              "    }\n",
              "\n",
              "    .dataframe tbody tr th {\n",
              "        vertical-align: top;\n",
              "    }\n",
              "\n",
              "    .dataframe thead th {\n",
              "        text-align: right;\n",
              "    }\n",
              "</style>\n",
              "<table border=\"1\" class=\"dataframe\">\n",
              "  <thead>\n",
              "    <tr style=\"text-align: right;\">\n",
              "      <th></th>\n",
              "      <th>image_path</th>\n",
              "      <th>labels</th>\n",
              "    </tr>\n",
              "  </thead>\n",
              "  <tbody>\n",
              "    <tr>\n",
              "      <th>0</th>\n",
              "      <td>./content/images/00002954_005.png</td>\n",
              "      <td>No Finding</td>\n",
              "    </tr>\n",
              "    <tr>\n",
              "      <th>1</th>\n",
              "      <td>./content/images/00017700_000.png</td>\n",
              "      <td>No Finding</td>\n",
              "    </tr>\n",
              "    <tr>\n",
              "      <th>2</th>\n",
              "      <td>./content/images/00012233_005.png</td>\n",
              "      <td>Pneumothorax</td>\n",
              "    </tr>\n",
              "    <tr>\n",
              "      <th>3</th>\n",
              "      <td>./content/images/00007354_010.png</td>\n",
              "      <td>Infiltration</td>\n",
              "    </tr>\n",
              "    <tr>\n",
              "      <th>4</th>\n",
              "      <td>./content/images/00008191_001.png</td>\n",
              "      <td>Atelectasis</td>\n",
              "    </tr>\n",
              "  </tbody>\n",
              "</table>\n",
              "</div>"
            ],
            "text/plain": [
              "                          image_path        labels\n",
              "0  ./content/images/00002954_005.png    No Finding\n",
              "1  ./content/images/00017700_000.png    No Finding\n",
              "2  ./content/images/00012233_005.png  Pneumothorax\n",
              "3  ./content/images/00007354_010.png  Infiltration\n",
              "4  ./content/images/00008191_001.png   Atelectasis"
            ]
          },
          "metadata": {
            "tags": []
          },
          "execution_count": 4
        }
      ]
    },
    {
      "cell_type": "code",
      "metadata": {
        "colab": {
          "base_uri": "https://localhost:8080/",
          "height": 197
        },
        "id": "XcqPTU739rj2",
        "outputId": "0aa1a279-96cc-49bc-b51b-2e017ae75ad8"
      },
      "source": [
        "validDf.head()"
      ],
      "execution_count": 5,
      "outputs": [
        {
          "output_type": "execute_result",
          "data": {
            "text/html": [
              "<div>\n",
              "<style scoped>\n",
              "    .dataframe tbody tr th:only-of-type {\n",
              "        vertical-align: middle;\n",
              "    }\n",
              "\n",
              "    .dataframe tbody tr th {\n",
              "        vertical-align: top;\n",
              "    }\n",
              "\n",
              "    .dataframe thead th {\n",
              "        text-align: right;\n",
              "    }\n",
              "</style>\n",
              "<table border=\"1\" class=\"dataframe\">\n",
              "  <thead>\n",
              "    <tr style=\"text-align: right;\">\n",
              "      <th></th>\n",
              "      <th>image_path</th>\n",
              "      <th>labels</th>\n",
              "    </tr>\n",
              "  </thead>\n",
              "  <tbody>\n",
              "    <tr>\n",
              "      <th>0</th>\n",
              "      <td>./content/images/00003308_002.png</td>\n",
              "      <td>No Finding</td>\n",
              "    </tr>\n",
              "    <tr>\n",
              "      <th>1</th>\n",
              "      <td>./content/images/00016621_000.png</td>\n",
              "      <td>Pleural_Thickening</td>\n",
              "    </tr>\n",
              "    <tr>\n",
              "      <th>2</th>\n",
              "      <td>./content/images/00028811_002.png</td>\n",
              "      <td>Effusion</td>\n",
              "    </tr>\n",
              "    <tr>\n",
              "      <th>3</th>\n",
              "      <td>./content/images/00017044_008.png</td>\n",
              "      <td>Consolidation</td>\n",
              "    </tr>\n",
              "    <tr>\n",
              "      <th>4</th>\n",
              "      <td>./content/images/00020703_023.png</td>\n",
              "      <td>No Finding</td>\n",
              "    </tr>\n",
              "  </tbody>\n",
              "</table>\n",
              "</div>"
            ],
            "text/plain": [
              "                          image_path              labels\n",
              "0  ./content/images/00003308_002.png          No Finding\n",
              "1  ./content/images/00016621_000.png  Pleural_Thickening\n",
              "2  ./content/images/00028811_002.png            Effusion\n",
              "3  ./content/images/00017044_008.png       Consolidation\n",
              "4  ./content/images/00020703_023.png          No Finding"
            ]
          },
          "metadata": {
            "tags": []
          },
          "execution_count": 5
        }
      ]
    },
    {
      "cell_type": "code",
      "metadata": {
        "id": "zCueQ4WnYjD_",
        "colab": {
          "base_uri": "https://localhost:8080/",
          "height": 197
        },
        "outputId": "3e90205e-2caa-45cf-84e3-9e24e1780fee"
      },
      "source": [
        "testDf.head()"
      ],
      "execution_count": 6,
      "outputs": [
        {
          "output_type": "execute_result",
          "data": {
            "text/html": [
              "<div>\n",
              "<style scoped>\n",
              "    .dataframe tbody tr th:only-of-type {\n",
              "        vertical-align: middle;\n",
              "    }\n",
              "\n",
              "    .dataframe tbody tr th {\n",
              "        vertical-align: top;\n",
              "    }\n",
              "\n",
              "    .dataframe thead th {\n",
              "        text-align: right;\n",
              "    }\n",
              "</style>\n",
              "<table border=\"1\" class=\"dataframe\">\n",
              "  <thead>\n",
              "    <tr style=\"text-align: right;\">\n",
              "      <th></th>\n",
              "      <th>image_path</th>\n",
              "      <th>labels</th>\n",
              "    </tr>\n",
              "  </thead>\n",
              "  <tbody>\n",
              "    <tr>\n",
              "      <th>0</th>\n",
              "      <td>./content/images/00000003_001.png</td>\n",
              "      <td>Hernia</td>\n",
              "    </tr>\n",
              "    <tr>\n",
              "      <th>1</th>\n",
              "      <td>./content/images/00000003_002.png</td>\n",
              "      <td>Hernia</td>\n",
              "    </tr>\n",
              "    <tr>\n",
              "      <th>2</th>\n",
              "      <td>./content/images/00000003_003.png</td>\n",
              "      <td>Hernia</td>\n",
              "    </tr>\n",
              "    <tr>\n",
              "      <th>3</th>\n",
              "      <td>./content/images/00000003_004.png</td>\n",
              "      <td>Hernia</td>\n",
              "    </tr>\n",
              "    <tr>\n",
              "      <th>4</th>\n",
              "      <td>./content/images/00000003_005.png</td>\n",
              "      <td>Hernia</td>\n",
              "    </tr>\n",
              "  </tbody>\n",
              "</table>\n",
              "</div>"
            ],
            "text/plain": [
              "                          image_path  labels\n",
              "0  ./content/images/00000003_001.png  Hernia\n",
              "1  ./content/images/00000003_002.png  Hernia\n",
              "2  ./content/images/00000003_003.png  Hernia\n",
              "3  ./content/images/00000003_004.png  Hernia\n",
              "4  ./content/images/00000003_005.png  Hernia"
            ]
          },
          "metadata": {
            "tags": []
          },
          "execution_count": 6
        }
      ]
    },
    {
      "cell_type": "markdown",
      "metadata": {
        "id": "ZgyZRJl_4G3L"
      },
      "source": [
        "# Pretprocesiranje skupa podataka"
      ]
    },
    {
      "cell_type": "code",
      "metadata": {
        "id": "FsNoHYYbVuwJ"
      },
      "source": [
        "IMAGE_SIZE = (224, 224)\r\n",
        "BATCH_SIZE = 16"
      ],
      "execution_count": 7,
      "outputs": []
    },
    {
      "cell_type": "code",
      "metadata": {
        "id": "kikb-Ld2h9cE"
      },
      "source": [
        "!unzip -qq /content/drive/MyDrive/images-nih-chest.zip"
      ],
      "execution_count": 8,
      "outputs": []
    },
    {
      "cell_type": "code",
      "metadata": {
        "colab": {
          "base_uri": "https://localhost:8080/"
        },
        "id": "sR68_JGWGV3F",
        "outputId": "282b7411-4628-4cc2-a279-f407ed1b50ea"
      },
      "source": [
        "from tensorflow.keras.preprocessing.image import ImageDataGenerator\r\n",
        "\r\n",
        "trainGenerator = ImageDataGenerator(rescale=1./225).flow_from_dataframe(\r\n",
        "    trainDf,\r\n",
        "    x_col=\"image_path\",\r\n",
        "    y_col=\"labels\",\r\n",
        "    target_size=IMAGE_SIZE,\r\n",
        "    color_mode=\"rgb\",\r\n",
        "    class_mode=\"categorical\",\r\n",
        "    batch_size=BATCH_SIZE,\r\n",
        "    shuffle=True,\r\n",
        "    validate_filenames=True,   \r\n",
        ")\r\n",
        "\r\n",
        "validGenerator = ImageDataGenerator(rescale=1./225).flow_from_dataframe(\r\n",
        "    validDf,\r\n",
        "    x_col=\"image_path\",\r\n",
        "    y_col=\"labels\",\r\n",
        "    target_size=IMAGE_SIZE,\r\n",
        "    color_mode=\"rgb\",\r\n",
        "    class_mode=\"categorical\",\r\n",
        "    batch_size=BATCH_SIZE,\r\n",
        "    shuffle=True,\r\n",
        "    validate_filenames=True\r\n",
        ")"
      ],
      "execution_count": 45,
      "outputs": [
        {
          "output_type": "stream",
          "text": [
            "Found 69219 validated image filenames belonging to 15 classes.\n",
            "Found 17305 validated image filenames belonging to 15 classes.\n"
          ],
          "name": "stdout"
        }
      ]
    },
    {
      "cell_type": "markdown",
      "metadata": {
        "id": "G0bxtPMuGZkO"
      },
      "source": [
        "# Kreiranje modela modifikacijom VGG-16 modela (eng. *Transfer Learning*) uz  fino podešavanje (eng. *Fine Tuning*)"
      ]
    },
    {
      "cell_type": "code",
      "metadata": {
        "id": "DfRQXdy2Gf5T"
      },
      "source": [
        "from tensorflow.keras.models import Model, Sequential\r\n",
        "from tensorflow.keras.layers import Dense, Flatten, Dropout, Conv2D, Activation, MaxPooling2D, BatchNormalization\r\n",
        "from tensorflow.keras.applications import VGG16\r\n",
        "from tensorflow.keras.applications.vgg16 import preprocess_input, decode_predictions\r\n",
        "from tensorflow.keras.optimizers import Adam"
      ],
      "execution_count": 46,
      "outputs": []
    },
    {
      "cell_type": "code",
      "metadata": {
        "colab": {
          "base_uri": "https://localhost:8080/"
        },
        "id": "xzMHrqzDncc7",
        "outputId": "b09a1353-853a-4f82-98b6-aeec5eb9e893"
      },
      "source": [
        "vgg16 = VGG16(include_top=True, weights='imagenet')\r\n",
        "vgg16.summary()"
      ],
      "execution_count": 47,
      "outputs": [
        {
          "output_type": "stream",
          "text": [
            "Model: \"vgg16\"\n",
            "_________________________________________________________________\n",
            "Layer (type)                 Output Shape              Param #   \n",
            "=================================================================\n",
            "input_3 (InputLayer)         [(None, 224, 224, 3)]     0         \n",
            "_________________________________________________________________\n",
            "block1_conv1 (Conv2D)        (None, 224, 224, 64)      1792      \n",
            "_________________________________________________________________\n",
            "block1_conv2 (Conv2D)        (None, 224, 224, 64)      36928     \n",
            "_________________________________________________________________\n",
            "block1_pool (MaxPooling2D)   (None, 112, 112, 64)      0         \n",
            "_________________________________________________________________\n",
            "block2_conv1 (Conv2D)        (None, 112, 112, 128)     73856     \n",
            "_________________________________________________________________\n",
            "block2_conv2 (Conv2D)        (None, 112, 112, 128)     147584    \n",
            "_________________________________________________________________\n",
            "block2_pool (MaxPooling2D)   (None, 56, 56, 128)       0         \n",
            "_________________________________________________________________\n",
            "block3_conv1 (Conv2D)        (None, 56, 56, 256)       295168    \n",
            "_________________________________________________________________\n",
            "block3_conv2 (Conv2D)        (None, 56, 56, 256)       590080    \n",
            "_________________________________________________________________\n",
            "block3_conv3 (Conv2D)        (None, 56, 56, 256)       590080    \n",
            "_________________________________________________________________\n",
            "block3_pool (MaxPooling2D)   (None, 28, 28, 256)       0         \n",
            "_________________________________________________________________\n",
            "block4_conv1 (Conv2D)        (None, 28, 28, 512)       1180160   \n",
            "_________________________________________________________________\n",
            "block4_conv2 (Conv2D)        (None, 28, 28, 512)       2359808   \n",
            "_________________________________________________________________\n",
            "block4_conv3 (Conv2D)        (None, 28, 28, 512)       2359808   \n",
            "_________________________________________________________________\n",
            "block4_pool (MaxPooling2D)   (None, 14, 14, 512)       0         \n",
            "_________________________________________________________________\n",
            "block5_conv1 (Conv2D)        (None, 14, 14, 512)       2359808   \n",
            "_________________________________________________________________\n",
            "block5_conv2 (Conv2D)        (None, 14, 14, 512)       2359808   \n",
            "_________________________________________________________________\n",
            "block5_conv3 (Conv2D)        (None, 14, 14, 512)       2359808   \n",
            "_________________________________________________________________\n",
            "block5_pool (MaxPooling2D)   (None, 7, 7, 512)         0         \n",
            "_________________________________________________________________\n",
            "flatten (Flatten)            (None, 25088)             0         \n",
            "_________________________________________________________________\n",
            "fc1 (Dense)                  (None, 4096)              102764544 \n",
            "_________________________________________________________________\n",
            "fc2 (Dense)                  (None, 4096)              16781312  \n",
            "_________________________________________________________________\n",
            "predictions (Dense)          (None, 1000)              4097000   \n",
            "=================================================================\n",
            "Total params: 138,357,544\n",
            "Trainable params: 138,357,544\n",
            "Non-trainable params: 0\n",
            "_________________________________________________________________\n"
          ],
          "name": "stdout"
        }
      ]
    },
    {
      "cell_type": "code",
      "metadata": {
        "colab": {
          "base_uri": "https://localhost:8080/"
        },
        "id": "3WfBdY9buJHH",
        "outputId": "831a9223-e5ae-4d3c-ff97-8d5d8507a407"
      },
      "source": [
        "transferLayer = vgg16.get_layer('block5_pool')\r\n",
        "transferLayer.output"
      ],
      "execution_count": 48,
      "outputs": [
        {
          "output_type": "execute_result",
          "data": {
            "text/plain": [
              "<KerasTensor: shape=(None, 7, 7, 512) dtype=float32 (created by layer 'block5_pool')>"
            ]
          },
          "metadata": {
            "tags": []
          },
          "execution_count": 48
        }
      ]
    },
    {
      "cell_type": "code",
      "metadata": {
        "id": "i37pz_EVum8e"
      },
      "source": [
        "vgg16conv = Model(inputs=vgg16.input, outputs=transferLayer.output)"
      ],
      "execution_count": 49,
      "outputs": []
    },
    {
      "cell_type": "code",
      "metadata": {
        "colab": {
          "base_uri": "https://localhost:8080/"
        },
        "id": "sHjmNM-gwW2C",
        "outputId": "1b67f560-1afe-4adb-8058-e3b2cd800788"
      },
      "source": [
        "for layer in vgg16conv.layers:\r\n",
        "  print(\"{0}:\\t{1}\".format(layer.trainable, layer.name))"
      ],
      "execution_count": 50,
      "outputs": [
        {
          "output_type": "stream",
          "text": [
            "True:\tinput_3\n",
            "True:\tblock1_conv1\n",
            "True:\tblock1_conv2\n",
            "True:\tblock1_pool\n",
            "True:\tblock2_conv1\n",
            "True:\tblock2_conv2\n",
            "True:\tblock2_pool\n",
            "True:\tblock3_conv1\n",
            "True:\tblock3_conv2\n",
            "True:\tblock3_conv3\n",
            "True:\tblock3_pool\n",
            "True:\tblock4_conv1\n",
            "True:\tblock4_conv2\n",
            "True:\tblock4_conv3\n",
            "True:\tblock4_pool\n",
            "True:\tblock5_conv1\n",
            "True:\tblock5_conv2\n",
            "True:\tblock5_conv3\n",
            "True:\tblock5_pool\n"
          ],
          "name": "stdout"
        }
      ]
    },
    {
      "cell_type": "code",
      "metadata": {
        "id": "QPopaDVhwh-J"
      },
      "source": [
        "vgg16conv.trainable = False"
      ],
      "execution_count": 51,
      "outputs": []
    },
    {
      "cell_type": "code",
      "metadata": {
        "id": "EPCQj1Kny4gP"
      },
      "source": [
        "for layer in vgg16conv.layers:\r\n",
        "  trainable=('block4' in layer.name or 'block5' in layer.name)\r\n",
        "  layer.trainable = trainable"
      ],
      "execution_count": 52,
      "outputs": []
    },
    {
      "cell_type": "code",
      "metadata": {
        "colab": {
          "base_uri": "https://localhost:8080/"
        },
        "id": "pJ9cU21kzXyk",
        "outputId": "d51b71f9-1cb4-4f63-b588-3d055aa95b4c"
      },
      "source": [
        "for layer in vgg16conv.layers:\r\n",
        "  print(\"{0}:\\t{1}\".format(layer.trainable, layer.name))"
      ],
      "execution_count": 53,
      "outputs": [
        {
          "output_type": "stream",
          "text": [
            "False:\tinput_3\n",
            "False:\tblock1_conv1\n",
            "False:\tblock1_conv2\n",
            "False:\tblock1_pool\n",
            "False:\tblock2_conv1\n",
            "False:\tblock2_conv2\n",
            "False:\tblock2_pool\n",
            "False:\tblock3_conv1\n",
            "False:\tblock3_conv2\n",
            "False:\tblock3_conv3\n",
            "False:\tblock3_pool\n",
            "True:\tblock4_conv1\n",
            "True:\tblock4_conv2\n",
            "True:\tblock4_conv3\n",
            "True:\tblock4_pool\n",
            "True:\tblock5_conv1\n",
            "True:\tblock5_conv2\n",
            "True:\tblock5_conv3\n",
            "True:\tblock5_pool\n"
          ],
          "name": "stdout"
        }
      ]
    },
    {
      "cell_type": "code",
      "metadata": {
        "id": "czCNLgxiuxKZ"
      },
      "source": [
        "model = Sequential()\r\n",
        "model.add(vgg16conv)\r\n",
        "model.add(Flatten())\r\n",
        "model.add(Dense(1024))\r\n",
        "model.add(Activation('relu'))\r\n",
        "model.add(BatchNormalization())\r\n",
        "model.add(Dense(1024))\r\n",
        "model.add(Activation('relu'))\r\n",
        "model.add(BatchNormalization())\r\n",
        "model.add(Dense(15, activation='softmax'))"
      ],
      "execution_count": 54,
      "outputs": []
    },
    {
      "cell_type": "code",
      "metadata": {
        "colab": {
          "base_uri": "https://localhost:8080/"
        },
        "id": "zux6EzOELm3D",
        "outputId": "1e9f6a54-07cf-4dba-fe0f-104d982a50d6"
      },
      "source": [
        "for layer in model.layers:\r\n",
        "  print(\"{0}:\\t{1}\".format(layer.trainable, layer.name))"
      ],
      "execution_count": 55,
      "outputs": [
        {
          "output_type": "stream",
          "text": [
            "False:\tmodel_2\n",
            "True:\tflatten_4\n",
            "True:\tdense_9\n",
            "True:\tactivation_6\n",
            "True:\tbatch_normalization_6\n",
            "True:\tdense_10\n",
            "True:\tactivation_7\n",
            "True:\tbatch_normalization_7\n",
            "True:\tdense_11\n"
          ],
          "name": "stdout"
        }
      ]
    },
    {
      "cell_type": "markdown",
      "metadata": {
        "id": "FvqbWfJnIYrq"
      },
      "source": [
        "# Kompilacija modela"
      ]
    },
    {
      "cell_type": "code",
      "metadata": {
        "id": "A15jzW96zgxv"
      },
      "source": [
        "from tensorflow.keras.optimizers import Adam\r\n",
        "\r\n",
        "model.compile(\r\n",
        "    loss = 'categorical_crossentropy',\r\n",
        "    optimizer = Adam(learning_rate=1e-0), \r\n",
        "    metrics = ['accuracy'],\r\n",
        ")"
      ],
      "execution_count": 56,
      "outputs": []
    },
    {
      "cell_type": "markdown",
      "metadata": {
        "id": "mzs2nfy-IzX-"
      },
      "source": [
        "# Treniranje modela"
      ]
    },
    {
      "cell_type": "code",
      "metadata": {
        "id": "ktxRfjz2Dimw"
      },
      "source": [
        "from tensorflow.keras.callbacks import ModelCheckpoint, EarlyStopping\r\n",
        "\r\n",
        "checkpointCB = ModelCheckpoint(\"vgg16-chest-x-ray.h5\", save_best_only=True)\r\n",
        "\r\n",
        "earlyStoppingCB = EarlyStopping(\r\n",
        "    patience=10, restore_best_weights=True\r\n",
        ")"
      ],
      "execution_count": 57,
      "outputs": []
    },
    {
      "cell_type": "code",
      "metadata": {
        "colab": {
          "base_uri": "https://localhost:8080/"
        },
        "id": "d8UuhkT_zcKH",
        "outputId": "efd649b0-2063-4f31-bd98-f36259a09b03"
      },
      "source": [
        "history = model.fit(\r\n",
        "      trainGenerator,\r\n",
        "      epochs=20,\r\n",
        "      steps_per_epoch=trainGenerator.samples // BATCH_SIZE,\r\n",
        "      validation_data=validGenerator,\r\n",
        "      validation_steps=validGenerator.samples // BATCH_SIZE,\r\n",
        "      callbacks=[checkpointCB]\r\n",
        "    )"
      ],
      "execution_count": 58,
      "outputs": [
        {
          "output_type": "stream",
          "text": [
            "Epoch 1/20\n",
            "4326/4326 [==============================] - 405s 93ms/step - loss: 417.5168 - accuracy: 0.3878 - val_loss: 23829346.0000 - val_accuracy: 0.2425\n",
            "Epoch 2/20\n",
            "4326/4326 [==============================] - 403s 93ms/step - loss: 387.7346 - accuracy: 0.4085 - val_loss: 8343036.5000 - val_accuracy: 0.5188\n",
            "Epoch 3/20\n",
            "4326/4326 [==============================] - 403s 93ms/step - loss: 357.6773 - accuracy: 0.4075 - val_loss: 12022675.0000 - val_accuracy: 0.5143\n",
            "Epoch 4/20\n",
            "4326/4326 [==============================] - 404s 93ms/step - loss: 283.5476 - accuracy: 0.4077 - val_loss: 39760648.0000 - val_accuracy: 0.3751\n",
            "Epoch 5/20\n",
            "4326/4326 [==============================] - 404s 93ms/step - loss: 370.3920 - accuracy: 0.4137 - val_loss: 191942720.0000 - val_accuracy: 0.4447\n",
            "Epoch 6/20\n",
            "4326/4326 [==============================] - 403s 93ms/step - loss: 270.7860 - accuracy: 0.4124 - val_loss: 2067954304.0000 - val_accuracy: 0.2564\n",
            "Epoch 7/20\n",
            "4326/4326 [==============================] - 402s 93ms/step - loss: 340.1912 - accuracy: 0.4153 - val_loss: 549541248.0000 - val_accuracy: 0.3795\n",
            "Epoch 8/20\n",
            "4326/4326 [==============================] - 403s 93ms/step - loss: 523.2870 - accuracy: 0.4149 - val_loss: 6614067200.0000 - val_accuracy: 0.3137\n",
            "Epoch 9/20\n",
            "4326/4326 [==============================] - 403s 93ms/step - loss: 414.2655 - accuracy: 0.4125 - val_loss: 20295446528.0000 - val_accuracy: 0.1905\n",
            "Epoch 10/20\n",
            "4326/4326 [==============================] - 403s 93ms/step - loss: 322.0567 - accuracy: 0.4235 - val_loss: 12687634432.0000 - val_accuracy: 0.3969\n",
            "Epoch 11/20\n",
            "4326/4326 [==============================] - 403s 93ms/step - loss: 596.6323 - accuracy: 0.4165 - val_loss: 8045724672.0000 - val_accuracy: 0.1956\n",
            "Epoch 12/20\n",
            "4326/4326 [==============================] - 403s 93ms/step - loss: 629.6099 - accuracy: 0.4207 - val_loss: 17366175744.0000 - val_accuracy: 0.4406\n",
            "Epoch 13/20\n",
            "4326/4326 [==============================] - 404s 93ms/step - loss: 267.1672 - accuracy: 0.4221 - val_loss: 8380082688.0000 - val_accuracy: 0.4773\n",
            "Epoch 14/20\n",
            "4326/4326 [==============================] - 403s 93ms/step - loss: 217.5007 - accuracy: 0.4297 - val_loss: 18632585216.0000 - val_accuracy: 0.4693\n",
            "Epoch 15/20\n",
            "4326/4326 [==============================] - 404s 93ms/step - loss: 280.7926 - accuracy: 0.4238 - val_loss: 24066607104.0000 - val_accuracy: 0.5326\n",
            "Epoch 16/20\n",
            "4326/4326 [==============================] - 403s 93ms/step - loss: 366.4918 - accuracy: 0.4247 - val_loss: 28053979136.0000 - val_accuracy: 0.4339\n",
            "Epoch 17/20\n",
            "4326/4326 [==============================] - 404s 93ms/step - loss: 342.8718 - accuracy: 0.4250 - val_loss: 56678891520.0000 - val_accuracy: 0.4191\n",
            "Epoch 18/20\n",
            "4326/4326 [==============================] - 404s 93ms/step - loss: 535.2343 - accuracy: 0.4291 - val_loss: 80102998016.0000 - val_accuracy: 0.3317\n",
            "Epoch 19/20\n",
            "4326/4326 [==============================] - 404s 93ms/step - loss: 420.7013 - accuracy: 0.4291 - val_loss: 75642372096.0000 - val_accuracy: 0.5792\n",
            "Epoch 20/20\n",
            "4326/4326 [==============================] - 404s 93ms/step - loss: 698.8315 - accuracy: 0.4294 - val_loss: 53602426880.0000 - val_accuracy: 0.2987\n"
          ],
          "name": "stdout"
        }
      ]
    },
    {
      "cell_type": "markdown",
      "metadata": {
        "id": "7skIIWSXK80P"
      },
      "source": [
        "# Rezultati treniranja"
      ]
    },
    {
      "cell_type": "code",
      "metadata": {
        "id": "l3a8-gIoLENI"
      },
      "source": [
        "import matplotlib.pyplot as plt\r\n",
        "\r\n",
        "def plotHistory(history):\r\n",
        "  fig, axs = plt.subplots(2, figsize=(20,10))\r\n",
        "  axs[0].plot(history.history[\"accuracy\"])\r\n",
        "  axs[0].plot(history.history['val_accuracy'])\r\n",
        "  axs[1].plot(history.history[\"loss\"])\r\n",
        "  axs[1].plot(history.history['val_loss'])\r\n",
        "  axs[0].set_title(\"model accuracy\")\r\n",
        "  axs[0].set(xlabel='epoch', ylabel='acc')\r\n",
        "  axs[1].set(xlabel='epoch', ylabel='loss')\r\n",
        "  axs[0].legend([\"Accuracy\",\"Validation Accuracy\"])\r\n",
        "  axs[1].legend([\"Loss\",\"Validation Loss\"])\r\n",
        "  plt.show()"
      ],
      "execution_count": 83,
      "outputs": []
    },
    {
      "cell_type": "code",
      "metadata": {
        "id": "deQzCKg3Ll9K",
        "colab": {
          "base_uri": "https://localhost:8080/",
          "height": 621
        },
        "outputId": "c5b745c9-b8c2-49d2-d3e0-3d6c26a04645"
      },
      "source": [
        "plotHistory(history)"
      ],
      "execution_count": 84,
      "outputs": [
        {
          "output_type": "display_data",
          "data": {
            "image/png": "[encoded data removed]",
            "text/plain": [
              "<Figure size 1440x720 with 2 Axes>"
            ]
          },
          "metadata": {
            "tags": [],
            "needs_background": "light"
          }
        }
      ]
    },
    {
      "cell_type": "markdown",
      "metadata": {
        "id": "bnCnq4gzLAHd"
      },
      "source": [
        "# Rezultati evaluacije"
      ]
    },
    {
      "cell_type": "code",
      "metadata": {
        "id": "Y5Lf20OUs-gs",
        "colab": {
          "base_uri": "https://localhost:8080/"
        },
        "outputId": "6f775873-eaa6-4e9f-a77f-075b818677c0"
      },
      "source": [
        "testDataGen = ImageDataGenerator(\r\n",
        "    rescale=1./255,\r\n",
        ")\r\n",
        "\r\n",
        "testGenerator = testDataGen.flow_from_dataframe(\r\n",
        "    testDf,\r\n",
        "    x_col=\"image_path\",\r\n",
        "    y_col=\"labels\",\r\n",
        "    target_size=IMAGE_SIZE,\r\n",
        "    color_mode=\"rgb\",\r\n",
        "    class_mode=\"categorical\",\r\n",
        "    batch_size=BATCH_SIZE,\r\n",
        "    shuffle=True,\r\n",
        "    validate_filenames=True\r\n",
        ")"
      ],
      "execution_count": 61,
      "outputs": [
        {
          "output_type": "stream",
          "text": [
            "Found 25596 validated image filenames belonging to 15 classes.\n"
          ],
          "name": "stdout"
        }
      ]
    },
    {
      "cell_type": "code",
      "metadata": {
        "id": "TDADuXPBs0sN",
        "colab": {
          "base_uri": "https://localhost:8080/"
        },
        "outputId": "de09d352-a427-4870-90c0-e00a5ff9af61"
      },
      "source": [
        "results = model.evaluate(testGenerator, steps=testGenerator.samples // BATCH_SIZE)"
      ],
      "execution_count": 62,
      "outputs": [
        {
          "output_type": "stream",
          "text": [
            "1599/1599 [==============================] - 114s 71ms/step - loss: 38669615104.0000 - accuracy: 0.1594\n"
          ],
          "name": "stdout"
        }
      ]
    },
    {
      "cell_type": "code",
      "metadata": {
        "id": "bK88FNKvuPwy",
        "colab": {
          "base_uri": "https://localhost:8080/"
        },
        "outputId": "86783ed2-2cb3-4bfe-8309-2de0d79b8d1f"
      },
      "source": [
        "print(\"Accuracy on test set: {0:.2%}\".format(results[1]))"
      ],
      "execution_count": 63,
      "outputs": [
        {
          "output_type": "stream",
          "text": [
            "Accuracy on test set: 15.94%\n"
          ],
          "name": "stdout"
        }
      ]
    },
    {
      "cell_type": "markdown",
      "metadata": {
        "id": "WFXLO_vM-Gvw"
      },
      "source": [
        "# Dodatak: Balansiranje klasa\r\n",
        "Pokušano je balansiranje klasa automatskim dodeljivanjem težina manje zastupljenim klasama, međutim, to nije pružilo dobre rezultate. Trebalo bi pokušati sa drugim metodama balansiranja."
      ]
    },
    {
      "cell_type": "code",
      "metadata": {
        "id": "Fqn93V6odgsb"
      },
      "source": [
        "# from sklearn.utils import class_weight\r\n",
        "# import numpy as np\r\n",
        "\r\n",
        "# class_weights = class_weight.compute_class_weight(\r\n",
        "#                'balanced',\r\n",
        "#                 np.unique(trainGenerator.classes), \r\n",
        "#                 trainGenerator.classes)\r\n",
        "\r\n",
        "# class_weights = dict(enumerate(class_weights))"
      ],
      "execution_count": 64,
      "outputs": []
    },
    {
      "cell_type": "markdown",
      "metadata": {
        "id": "iKv7QAKSmxcu"
      },
      "source": [
        "# Dodatak: Neuspešan *custom* model\r\n",
        "\r\n",
        "Isprobano je nekoliko nezavisnih modela koji nisu davali dobre rezultate tokom treniranja u 100 epoha. Jedan od modela je prikazan u nastavku."
      ]
    },
    {
      "cell_type": "code",
      "metadata": {
        "id": "tcR1KTnvP7yR"
      },
      "source": [
        "# model = Sequential()\r\n",
        "# model.add(Conv2D(64, (3, 3), input_shape=(224, 224, 3), strides=(1,1)))\r\n",
        "# model.add(Activation('relu'))\r\n",
        "# model.add(BatchNormalization())\r\n",
        "# model.add(MaxPooling2D(pool_size=(2, 2), strides=(2,2)))\r\n",
        "\r\n",
        "# model.add(Conv2D(64, (3, 3), strides=(1,1)))\r\n",
        "# model.add(Activation('relu'))\r\n",
        "# model.add(BatchNormalization())\r\n",
        "# model.add(MaxPooling2D(pool_size=(2, 2), strides=(2,2)))\r\n",
        "\r\n",
        "# model.add(Conv2D(128, (3, 3), strides=(1,1)))\r\n",
        "# model.add(Activation('relu'))\r\n",
        "# model.add(BatchNormalization())\r\n",
        "# model.add(MaxPooling2D(pool_size=(2, 2), strides=(2,2)))\r\n",
        "\r\n",
        "# model.add(Conv2D(128, (3, 3), strides=(1,1)))\r\n",
        "# model.add(Activation('relu'))\r\n",
        "# model.add(BatchNormalization())\r\n",
        "# model.add(MaxPooling2D(pool_size=(2, 2), strides=(2,2)))\r\n",
        "\r\n",
        "# model.add(Conv2D(256, (3, 3), strides=(1,1)))\r\n",
        "# model.add(Activation('relu'))\r\n",
        "# model.add(BatchNormalization())\r\n",
        "# model.add(MaxPooling2D(pool_size=(2, 2), strides=(2,2)))\r\n",
        "\r\n",
        "# model.add(Conv2D(256, (3, 3), strides=(1,1)))\r\n",
        "# model.add(Activation('relu'))\r\n",
        "# model.add(BatchNormalization())\r\n",
        "# model.add(MaxPooling2D(pool_size=(2, 2), strides=(2,2)))\r\n",
        "\r\n",
        "# model.add(Flatten())\r\n",
        "\r\n",
        "# model.add(Dense(1024))\r\n",
        "# model.add(Activation('relu'))\r\n",
        "# model.add(BatchNormalization())\r\n",
        "# model.add(Dropout(0.5))\r\n",
        "\r\n",
        "# model.add(Dense(1024))\r\n",
        "# model.add(Activation('relu'))\r\n",
        "# model.add(BatchNormalization())\r\n",
        "# model.add(Dropout(0.5))\r\n",
        "# model.add(Dense(15))\r\n",
        "# model.add(Activation('softmax'))"
      ],
      "execution_count": 65,
      "outputs": []
    },
    {
      "cell_type": "markdown",
      "metadata": {
        "id": "RMwiinTBlHDE"
      },
      "source": [
        "# Dodatak: Treniranje modela na TPU\r\n",
        "\r\n",
        "Google Colab je okruženje koje pruža hardver različitih performansi za rad. Naredni kod koji je dat pod komentarima je pokušaj konfigurisanja skupa podataka, kao i celokupnog okruženja za rad sa TPU hardverom, međutim, zbog korišćenja *ImageDataGenerator* klase, generatori su morali da budu \"obavijeni\" u *tensorflow* Dataset, ali je ovaj pokušaj bio neuspešan. Uvidom u *issue* sekciju Tensorflow GitHub repozitorijuma, kao i nekoliko odgovora pronađenih na StackOverflow stranici, utvrđeno je da postoji *bug* koji se javlja mnogim korisnicima i da do datuma (1.2.2021.) izrade ovog rada nije uspešno rešen. ([1](https://github.com/tensorflow/tensorflow/issues/34346), [2](https://stackoverflow.com/questions/52636127/how-to-use-keras-generator-with-tf-data-api), [**3**](https://stackoverflow.com/questions/63846264/how-to-use-tpu-on-kaggle-colab-with-imagedatagenerator))"
      ]
    },
    {
      "cell_type": "code",
      "metadata": {
        "id": "_OrW1g-RacbL"
      },
      "source": [
        "# Wrapping the keras generator\r\n",
        "# trainDS = tf.data.Dataset.from_generator(\r\n",
        "#     lambda: trainGenerator,\r\n",
        "#     output_types=(tf.float32, tf.float32),\r\n",
        "#     output_shapes = ([BATCH_SIZE,224,224,3],\r\n",
        "#                      [BATCH_SIZE,15])\r\n",
        "#     )\r\n",
        "\r\n",
        "# validDS = tf.data.Dataset.from_generator(\r\n",
        "#     lambda: validGenerator,\r\n",
        "#     output_types=(tf.float32, tf.float32),\r\n",
        "#     output_shapes = ([BATCH_SIZE,224,224,3],\r\n",
        "#                      [BATCH_SIZE,15])\r\n",
        "#     )"
      ],
      "execution_count": 66,
      "outputs": []
    },
    {
      "cell_type": "code",
      "metadata": {
        "id": "JEmyLu6g4G2z"
      },
      "source": [
        "# import re\r\n",
        "# import os\r\n",
        "# import random\r\n",
        "# import numpy as np\r\n",
        "# import pandas as pd\r\n",
        "# import tensorflow as tf\r\n",
        "# import matplotlib.pyplot as plt\r\n",
        "\r\n",
        "# tpu = tf.distribute.cluster_resolver.TPUClusterResolver()  # TPU detection\r\n",
        "# print('Running on TPU ', tpu.cluster_spec().as_dict()['worker'])\r\n",
        "\r\n",
        "# tf.config.experimental_connect_to_cluster(tpu)\r\n",
        "# tf.tpu.experimental.initialize_tpu_system(tpu)\r\n",
        "# strategy = tf.distribute.experimental.TPUStrategy(tpu)\r\n",
        "\r\n",
        "# print(\"REPLICAS: \", strategy.num_replicas_in_sync)"
      ],
      "execution_count": 67,
      "outputs": []
    },
    {
      "cell_type": "code",
      "metadata": {
        "id": "r6PU6_njkCZb"
      },
      "source": [
        "# with strategy.scope():\r\n",
        "#   model = create_model()\r\n",
        "#       loss = 'categorical_crossentropy', \r\n",
        "#       optimizer = Adam(learning_rate=0.0001), \r\n",
        "#       metrics = ['accuracy'],\r\n",
        "#       steps_per_execution = 50,\r\n",
        "#   )"
      ],
      "execution_count": 68,
      "outputs": []
    }
  ]
}