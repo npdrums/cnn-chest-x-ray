{
  "nbformat": 4,
  "nbformat_minor": 0,
  "metadata": {
    "colab": {
      "name": "analysis-and-preprocess.ipynb",
      "provenance": [],
      "collapsed_sections": [],
      "toc_visible": true
    },
    "kernelspec": {
      "name": "python3",
      "display_name": "Python 3"
    }
  },
  "cells": [
    {
      "cell_type": "markdown",
      "metadata": {
        "id": "qFSMmABU1cly"
      },
      "source": [
        "# Analiza meta-podataka"
      ]
    },
    {
      "cell_type": "markdown",
      "metadata": {
        "id": "-OD-5tHcL5dv"
      },
      "source": [
        "## Učitavanje skupa meta-podataka"
      ]
    },
    {
      "cell_type": "code",
      "metadata": {
        "colab": {
          "resources": {
            "http://localhost:8080/nbextensions/google.colab/files.js": {
              "data": "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",
              "ok": true,
              "headers": [
                [
                  "content-type",
                  "application/javascript"
                ]
              ],
              "status": 200,
              "status_text": ""
            }
          },
          "base_uri": "https://localhost:8080/",
          "height": 142
        },
        "id": "MmOSp24sBz4h",
        "outputId": "858f2a70-5525-4af7-8fd4-277d5b64aff0"
      },
      "source": [
        "# upload: Data_Entry_2017_v2020.csv, train_val_list.txt, test_list.txt\r\n",
        "# https://nihcc.app.box.com/v/ChestXray-NIHCC/file/219760887468\r\n",
        "# https://nihcc.app.box.com/v/ChestXray-NIHCC/file/256056636701\r\n",
        "# https://nihcc.app.box.com/v/ChestXray-NIHCC/file/256055473534\r\n",
        "# \r\n",
        "from google.colab import files\r\n",
        "uploaded = files.upload()"
      ],
      "execution_count": 3,
      "outputs": [
        {
          "output_type": "display_data",
          "data": {
            "text/html": [
              "\n",
              "     <input type=\"file\" id=\"files-0bac18a9-d2e9-4db6-b6d0-ddee9fe6682c\" name=\"files[]\" multiple disabled\n",
              "        style=\"border:none\" />\n",
              "     <output id=\"result-0bac18a9-d2e9-4db6-b6d0-ddee9fe6682c\">\n",
              "      Upload widget is only available when the cell has been executed in the\n",
              "      current browser session. Please rerun this cell to enable.\n",
              "      </output>\n",
              "      <script src=\"/nbextensions/google.colab/files.js\"></script> "
            ],
            "text/plain": [
              "<IPython.core.display.HTML object>"
            ]
          },
          "metadata": {
            "tags": []
          }
        },
        {
          "output_type": "stream",
          "text": [
            "Saving Data_Entry_2017_v2020.csv to Data_Entry_2017_v2020.csv\n",
            "Saving test_list.txt to test_list.txt\n",
            "Saving train_val_list.txt to train_val_list.txt\n"
          ],
          "name": "stdout"
        }
      ]
    },
    {
      "cell_type": "code",
      "metadata": {
        "id": "bfYvVH5pCaEj"
      },
      "source": [
        "import numpy as np\r\n",
        "import pandas as pd\r\n",
        "imageMetaData = pd.read_csv(\"Data_Entry_2017_v2020.csv\", sep=',')"
      ],
      "execution_count": 201,
      "outputs": []
    },
    {
      "cell_type": "markdown",
      "metadata": {
        "id": "fMBwVYGXMBt2"
      },
      "source": [
        "## Analiza skupa meta-podataka i priprema za sledeću fazu"
      ]
    },
    {
      "cell_type": "code",
      "metadata": {
        "id": "qeYvbNYS5ldC",
        "colab": {
          "base_uri": "https://localhost:8080/"
        },
        "outputId": "11d2275f-5dad-4336-9245-f32225a5478b"
      },
      "source": [
        "print(\"Broj redova u skupu meta podataka: \", imageMetaData.shape[0])\r\n",
        "print(\"Broj atributa(kolona)\", imageMetaData.shape[1])\r\n",
        "print(\"----------- \\nNazivi atributa: \")\r\n",
        "for col in imageMetaData.columns:\r\n",
        "  print(col)"
      ],
      "execution_count": 202,
      "outputs": [
        {
          "output_type": "stream",
          "text": [
            "Broj redova u skupu meta podataka:  112120\n",
            "Broj atributa(kolona) 11\n",
            "----------- \n",
            "Nazivi atributa: \n",
            "Image Index\n",
            "Finding Labels\n",
            "Follow-up #\n",
            "Patient ID\n",
            "Patient Age\n",
            "Patient Gender\n",
            "View Position\n",
            "OriginalImage[Width\n",
            "Height]\n",
            "OriginalImagePixelSpacing[x\n",
            "y]\n"
          ],
          "name": "stdout"
        }
      ]
    },
    {
      "cell_type": "code",
      "metadata": {
        "id": "HCrO7Hjz5xa9",
        "colab": {
          "base_uri": "https://localhost:8080/",
          "height": 197
        },
        "outputId": "9f3b74d5-beb9-4689-aa6a-2875c131aa06"
      },
      "source": [
        "imageMetaData.head()"
      ],
      "execution_count": 203,
      "outputs": [
        {
          "output_type": "execute_result",
          "data": {
            "text/html": [
              "<div>\n",
              "<style scoped>\n",
              "    .dataframe tbody tr th:only-of-type {\n",
              "        vertical-align: middle;\n",
              "    }\n",
              "\n",
              "    .dataframe tbody tr th {\n",
              "        vertical-align: top;\n",
              "    }\n",
              "\n",
              "    .dataframe thead th {\n",
              "        text-align: right;\n",
              "    }\n",
              "</style>\n",
              "<table border=\"1\" class=\"dataframe\">\n",
              "  <thead>\n",
              "    <tr style=\"text-align: right;\">\n",
              "      <th></th>\n",
              "      <th>Image Index</th>\n",
              "      <th>Finding Labels</th>\n",
              "      <th>Follow-up #</th>\n",
              "      <th>Patient ID</th>\n",
              "      <th>Patient Age</th>\n",
              "      <th>Patient Gender</th>\n",
              "      <th>View Position</th>\n",
              "      <th>OriginalImage[Width</th>\n",
              "      <th>Height]</th>\n",
              "      <th>OriginalImagePixelSpacing[x</th>\n",
              "      <th>y]</th>\n",
              "    </tr>\n",
              "  </thead>\n",
              "  <tbody>\n",
              "    <tr>\n",
              "      <th>0</th>\n",
              "      <td>00000001_000.png</td>\n",
              "      <td>Cardiomegaly</td>\n",
              "      <td>0</td>\n",
              "      <td>1</td>\n",
              "      <td>57</td>\n",
              "      <td>M</td>\n",
              "      <td>PA</td>\n",
              "      <td>2682</td>\n",
              "      <td>2749</td>\n",
              "      <td>0.143</td>\n",
              "      <td>0.143</td>\n",
              "    </tr>\n",
              "    <tr>\n",
              "      <th>1</th>\n",
              "      <td>00000001_001.png</td>\n",
              "      <td>Cardiomegaly|Emphysema</td>\n",
              "      <td>1</td>\n",
              "      <td>1</td>\n",
              "      <td>58</td>\n",
              "      <td>M</td>\n",
              "      <td>PA</td>\n",
              "      <td>2894</td>\n",
              "      <td>2729</td>\n",
              "      <td>0.143</td>\n",
              "      <td>0.143</td>\n",
              "    </tr>\n",
              "    <tr>\n",
              "      <th>2</th>\n",
              "      <td>00000001_002.png</td>\n",
              "      <td>Cardiomegaly|Effusion</td>\n",
              "      <td>2</td>\n",
              "      <td>1</td>\n",
              "      <td>58</td>\n",
              "      <td>M</td>\n",
              "      <td>PA</td>\n",
              "      <td>2500</td>\n",
              "      <td>2048</td>\n",
              "      <td>0.168</td>\n",
              "      <td>0.168</td>\n",
              "    </tr>\n",
              "    <tr>\n",
              "      <th>3</th>\n",
              "      <td>00000002_000.png</td>\n",
              "      <td>No Finding</td>\n",
              "      <td>0</td>\n",
              "      <td>2</td>\n",
              "      <td>80</td>\n",
              "      <td>M</td>\n",
              "      <td>PA</td>\n",
              "      <td>2500</td>\n",
              "      <td>2048</td>\n",
              "      <td>0.171</td>\n",
              "      <td>0.171</td>\n",
              "    </tr>\n",
              "    <tr>\n",
              "      <th>4</th>\n",
              "      <td>00000003_001.png</td>\n",
              "      <td>Hernia</td>\n",
              "      <td>0</td>\n",
              "      <td>3</td>\n",
              "      <td>74</td>\n",
              "      <td>F</td>\n",
              "      <td>PA</td>\n",
              "      <td>2500</td>\n",
              "      <td>2048</td>\n",
              "      <td>0.168</td>\n",
              "      <td>0.168</td>\n",
              "    </tr>\n",
              "  </tbody>\n",
              "</table>\n",
              "</div>"
            ],
            "text/plain": [
              "        Image Index          Finding Labels  ...  OriginalImagePixelSpacing[x     y]\n",
              "0  00000001_000.png            Cardiomegaly  ...                        0.143  0.143\n",
              "1  00000001_001.png  Cardiomegaly|Emphysema  ...                        0.143  0.143\n",
              "2  00000001_002.png   Cardiomegaly|Effusion  ...                        0.168  0.168\n",
              "3  00000002_000.png              No Finding  ...                        0.171  0.171\n",
              "4  00000003_001.png                  Hernia  ...                        0.168  0.168\n",
              "\n",
              "[5 rows x 11 columns]"
            ]
          },
          "metadata": {
            "tags": []
          },
          "execution_count": 203
        }
      ]
    },
    {
      "cell_type": "code",
      "metadata": {
        "id": "qMQbnhIbEKp-",
        "colab": {
          "base_uri": "https://localhost:8080/"
        },
        "outputId": "50aa945b-d861-4cf6-bc4d-4f93a6e69f7f"
      },
      "source": [
        "print(\"Prosek godina pacijenata: \", imageMetaData['Patient Age'].mean())\r\n",
        "print(\"Godine najstarijeg pacijenta: \", imageMetaData['Patient Age'].max())\r\n",
        "print(\"Godine najmlađeg pacijenta: \", imageMetaData['Patient Age'].min())"
      ],
      "execution_count": 204,
      "outputs": [
        {
          "output_type": "stream",
          "text": [
            "Prosek godina pacijenata:  46.62636460934713\n",
            "Godine najstarijeg pacijenta:  95\n",
            "Godine najmlađeg pacijenta:  0\n"
          ],
          "name": "stdout"
        }
      ]
    },
    {
      "cell_type": "code",
      "metadata": {
        "id": "qp83KXz1IWXy",
        "colab": {
          "base_uri": "https://localhost:8080/"
        },
        "outputId": "e326e6f2-3880-44ed-b2fe-710fb9393519"
      },
      "source": [
        "imageMetaData.groupby('Patient Age')['Patient ID'].count().sort_values(ascending=False)"
      ],
      "execution_count": 205,
      "outputs": [
        {
          "output_type": "execute_result",
          "data": {
            "text/plain": [
              "Patient Age\n",
              "58    2969\n",
              "57    2944\n",
              "52    2937\n",
              "55    2918\n",
              "56    2847\n",
              "      ... \n",
              "93      11\n",
              "89       8\n",
              "92       6\n",
              "94       3\n",
              "95       1\n",
              "Name: Patient ID, Length: 96, dtype: int64"
            ]
          },
          "metadata": {
            "tags": []
          },
          "execution_count": 205
        }
      ]
    },
    {
      "cell_type": "code",
      "metadata": {
        "id": "IuSOTxxLLiqh",
        "colab": {
          "base_uri": "https://localhost:8080/",
          "height": 368
        },
        "outputId": "a856a5e4-6ee2-458a-8119-e2a6f89b29a4"
      },
      "source": [
        "import matplotlib.pyplot as plt\r\n",
        "import seaborn as sns\r\n",
        "sns.set_palette(\"Blues_r\")\r\n",
        "sns.displot(data=imageMetaData, x=\"Patient Age\", kind=\"kde\", fill=True, aspect=3.5);"
      ],
      "execution_count": 206,
      "outputs": [
        {
          "output_type": "display_data",
          "data": {
            "image/png": "[encoded data removed]",
            "text/plain": [
              "<Figure size 1260x360 with 1 Axes>"
            ]
          },
          "metadata": {
            "tags": [],
            "needs_background": "light"
          }
        }
      ]
    },
    {
      "cell_type": "code",
      "metadata": {
        "id": "RHHYseRzDAhp",
        "colab": {
          "base_uri": "https://localhost:8080/",
          "height": 383
        },
        "outputId": "201ca04f-0260-4538-9a1e-a3528c7bf455"
      },
      "source": [
        "sns.catplot(x=\"Patient Age\", kind=\"count\", palette=\"ch:s=.25,rot=-.25\", data=imageMetaData, aspect=3.5);"
      ],
      "execution_count": 207,
      "outputs": [
        {
          "output_type": "display_data",
          "data": {
            "image/png": "[encoded data removed]",
            "text/plain": [
              "<Figure size 1260x360 with 1 Axes>"
            ]
          },
          "metadata": {
            "tags": [],
            "needs_background": "light"
          }
        }
      ]
    },
    {
      "cell_type": "code",
      "metadata": {
        "id": "JhDb1PNEH2Pb",
        "colab": {
          "base_uri": "https://localhost:8080/"
        },
        "outputId": "fb5a2104-5d0f-4d51-98a5-6d2f84a8f3df"
      },
      "source": [
        "imageMetaData['Patient Gender'].value_counts()"
      ],
      "execution_count": 208,
      "outputs": [
        {
          "output_type": "execute_result",
          "data": {
            "text/plain": [
              "M    63340\n",
              "F    48780\n",
              "Name: Patient Gender, dtype: int64"
            ]
          },
          "metadata": {
            "tags": []
          },
          "execution_count": 208
        }
      ]
    },
    {
      "cell_type": "code",
      "metadata": {
        "id": "80R4cA40Ox0Z",
        "colab": {
          "base_uri": "https://localhost:8080/",
          "height": 383
        },
        "outputId": "3ab053e1-6489-43a9-c48b-40fb435c2279"
      },
      "source": [
        "sns.catplot(x='Patient Gender', data=imageMetaData, kind=\"count\", palette=\"coolwarm\", aspect=2);"
      ],
      "execution_count": 209,
      "outputs": [
        {
          "output_type": "display_data",
          "data": {
            "image/png": "[encoded data removed]",
            "text/plain": [
              "<Figure size 720x360 with 1 Axes>"
            ]
          },
          "metadata": {
            "tags": [],
            "needs_background": "light"
          }
        }
      ]
    },
    {
      "cell_type": "code",
      "metadata": {
        "id": "mkrPVxLh9HQU",
        "colab": {
          "base_uri": "https://localhost:8080/",
          "height": 368
        },
        "outputId": "3da8bd03-30be-471e-f434-1942be155e31"
      },
      "source": [
        "sns.displot(data=imageMetaData, x=\"Patient Age\", hue=\"Patient Gender\", palette=\"coolwarm\", kind=\"kde\", fill=True, aspect=3.5);"
      ],
      "execution_count": 210,
      "outputs": [
        {
          "output_type": "display_data",
          "data": {
            "image/png": "[encoded data removed]",
            "text/plain": [
              "<Figure size 1342.75x360 with 1 Axes>"
            ]
          },
          "metadata": {
            "tags": [],
            "needs_background": "light"
          }
        }
      ]
    },
    {
      "cell_type": "code",
      "metadata": {
        "id": "V6afBIMoNqQy",
        "colab": {
          "base_uri": "https://localhost:8080/",
          "height": 743
        },
        "outputId": "12db8b6c-8ae0-45b3-d9c7-84bcfbdac332"
      },
      "source": [
        "sns.catplot(x=\"Patient Age\", data=imageMetaData, col=\"Patient Gender\", kind=\"count\", aspect=3.5, col_wrap=1, palette=\"ch:s=.25,rot=-.25\");"
      ],
      "execution_count": 211,
      "outputs": [
        {
          "output_type": "display_data",
          "data": {
            "image/png": "[encoded data removed]",
            "text/plain": [
              "<Figure size 1260x720 with 2 Axes>"
            ]
          },
          "metadata": {
            "tags": [],
            "needs_background": "light"
          }
        }
      ]
    },
    {
      "cell_type": "code",
      "metadata": {
        "id": "YUIcx8gNTMQI",
        "colab": {
          "base_uri": "https://localhost:8080/"
        },
        "outputId": "1735bfb4-882a-47c2-8fc9-b6acbf59d327"
      },
      "source": [
        "imageMetaData['Finding Labels'] = imageMetaData['Finding Labels'].astype(str).str.split('|')\r\n",
        "\r\n",
        "# number of patients with more than 1 diagnosis\r\n",
        "imageMetaData[imageMetaData['Finding Labels'].str.len() > 1].shape[0]"
      ],
      "execution_count": 212,
      "outputs": [
        {
          "output_type": "execute_result",
          "data": {
            "text/plain": [
              "20796"
            ]
          },
          "metadata": {
            "tags": []
          },
          "execution_count": 212
        }
      ]
    },
    {
      "cell_type": "code",
      "metadata": {
        "id": "L16uHKTlqTON",
        "colab": {
          "base_uri": "https://localhost:8080/",
          "height": 197
        },
        "outputId": "723b63dc-c67c-4e21-a21e-432a23a3aa73"
      },
      "source": [
        "imageMetaData.loc[:,'Finding Labels'] = imageMetaData['Finding Labels'].map(lambda x: x[0])\r\n",
        "imageMetaData.head()"
      ],
      "execution_count": 213,
      "outputs": [
        {
          "output_type": "execute_result",
          "data": {
            "text/html": [
              "<div>\n",
              "<style scoped>\n",
              "    .dataframe tbody tr th:only-of-type {\n",
              "        vertical-align: middle;\n",
              "    }\n",
              "\n",
              "    .dataframe tbody tr th {\n",
              "        vertical-align: top;\n",
              "    }\n",
              "\n",
              "    .dataframe thead th {\n",
              "        text-align: right;\n",
              "    }\n",
              "</style>\n",
              "<table border=\"1\" class=\"dataframe\">\n",
              "  <thead>\n",
              "    <tr style=\"text-align: right;\">\n",
              "      <th></th>\n",
              "      <th>Image Index</th>\n",
              "      <th>Finding Labels</th>\n",
              "      <th>Follow-up #</th>\n",
              "      <th>Patient ID</th>\n",
              "      <th>Patient Age</th>\n",
              "      <th>Patient Gender</th>\n",
              "      <th>View Position</th>\n",
              "      <th>OriginalImage[Width</th>\n",
              "      <th>Height]</th>\n",
              "      <th>OriginalImagePixelSpacing[x</th>\n",
              "      <th>y]</th>\n",
              "    </tr>\n",
              "  </thead>\n",
              "  <tbody>\n",
              "    <tr>\n",
              "      <th>0</th>\n",
              "      <td>00000001_000.png</td>\n",
              "      <td>Cardiomegaly</td>\n",
              "      <td>0</td>\n",
              "      <td>1</td>\n",
              "      <td>57</td>\n",
              "      <td>M</td>\n",
              "      <td>PA</td>\n",
              "      <td>2682</td>\n",
              "      <td>2749</td>\n",
              "      <td>0.143</td>\n",
              "      <td>0.143</td>\n",
              "    </tr>\n",
              "    <tr>\n",
              "      <th>1</th>\n",
              "      <td>00000001_001.png</td>\n",
              "      <td>Cardiomegaly</td>\n",
              "      <td>1</td>\n",
              "      <td>1</td>\n",
              "      <td>58</td>\n",
              "      <td>M</td>\n",
              "      <td>PA</td>\n",
              "      <td>2894</td>\n",
              "      <td>2729</td>\n",
              "      <td>0.143</td>\n",
              "      <td>0.143</td>\n",
              "    </tr>\n",
              "    <tr>\n",
              "      <th>2</th>\n",
              "      <td>00000001_002.png</td>\n",
              "      <td>Cardiomegaly</td>\n",
              "      <td>2</td>\n",
              "      <td>1</td>\n",
              "      <td>58</td>\n",
              "      <td>M</td>\n",
              "      <td>PA</td>\n",
              "      <td>2500</td>\n",
              "      <td>2048</td>\n",
              "      <td>0.168</td>\n",
              "      <td>0.168</td>\n",
              "    </tr>\n",
              "    <tr>\n",
              "      <th>3</th>\n",
              "      <td>00000002_000.png</td>\n",
              "      <td>No Finding</td>\n",
              "      <td>0</td>\n",
              "      <td>2</td>\n",
              "      <td>80</td>\n",
              "      <td>M</td>\n",
              "      <td>PA</td>\n",
              "      <td>2500</td>\n",
              "      <td>2048</td>\n",
              "      <td>0.171</td>\n",
              "      <td>0.171</td>\n",
              "    </tr>\n",
              "    <tr>\n",
              "      <th>4</th>\n",
              "      <td>00000003_001.png</td>\n",
              "      <td>Hernia</td>\n",
              "      <td>0</td>\n",
              "      <td>3</td>\n",
              "      <td>74</td>\n",
              "      <td>F</td>\n",
              "      <td>PA</td>\n",
              "      <td>2500</td>\n",
              "      <td>2048</td>\n",
              "      <td>0.168</td>\n",
              "      <td>0.168</td>\n",
              "    </tr>\n",
              "  </tbody>\n",
              "</table>\n",
              "</div>"
            ],
            "text/plain": [
              "        Image Index Finding Labels  ...  OriginalImagePixelSpacing[x     y]\n",
              "0  00000001_000.png   Cardiomegaly  ...                        0.143  0.143\n",
              "1  00000001_001.png   Cardiomegaly  ...                        0.143  0.143\n",
              "2  00000001_002.png   Cardiomegaly  ...                        0.168  0.168\n",
              "3  00000002_000.png     No Finding  ...                        0.171  0.171\n",
              "4  00000003_001.png         Hernia  ...                        0.168  0.168\n",
              "\n",
              "[5 rows x 11 columns]"
            ]
          },
          "metadata": {
            "tags": []
          },
          "execution_count": 213
        }
      ]
    },
    {
      "cell_type": "code",
      "metadata": {
        "id": "TT155faAJeMf",
        "colab": {
          "base_uri": "https://localhost:8080/"
        },
        "outputId": "40ea3b2c-65b5-46b1-e630-5a6c30ffa0c0"
      },
      "source": [
        "imageMetaData.groupby(\"Patient Gender\")[\"Finding Labels\"].value_counts()"
      ],
      "execution_count": 214,
      "outputs": [
        {
          "output_type": "execute_result",
          "data": {
            "text/plain": [
              "Patient Gender  Finding Labels    \n",
              "F               No Finding            26439\n",
              "                Infiltration           5055\n",
              "                Atelectasis            4648\n",
              "                Effusion               3533\n",
              "                Consolidation          1363\n",
              "                Nodule                 1318\n",
              "                Cardiomegaly           1284\n",
              "                Pneumothorax           1196\n",
              "                Mass                   1139\n",
              "                Edema                   880\n",
              "                Emphysema               635\n",
              "                Fibrosis                548\n",
              "                Pleural_Thickening      515\n",
              "                Pneumonia               130\n",
              "                Hernia                   97\n",
              "M               No Finding            33922\n",
              "                Atelectasis            6897\n",
              "                Infiltration           6740\n",
              "                Effusion               4507\n",
              "                Consolidation          1968\n",
              "                Mass                   1787\n",
              "                Nodule                 1691\n",
              "                Cardiomegaly           1120\n",
              "                Emphysema              1099\n",
              "                Pneumothorax           1004\n",
              "                Edema                   982\n",
              "                Pleural_Thickening      702\n",
              "                Fibrosis                667\n",
              "                Pneumonia               195\n",
              "                Hernia                   59\n",
              "Name: Finding Labels, dtype: int64"
            ]
          },
          "metadata": {
            "tags": []
          },
          "execution_count": 214
        }
      ]
    },
    {
      "cell_type": "code",
      "metadata": {
        "id": "hul3wCwmJREg",
        "colab": {
          "base_uri": "https://localhost:8080/",
          "height": 743
        },
        "outputId": "6caea250-542f-479b-a00c-37639e51ec79"
      },
      "source": [
        "sns.catplot(x=\"Finding Labels\", data=imageMetaData, col=\"Patient Gender\", kind=\"count\", aspect=3.5, col_wrap=1, palette=\"ch:s=.25,rot=-.25\");"
      ],
      "execution_count": 215,
      "outputs": [
        {
          "output_type": "display_data",
          "data": {
            "image/png": "[encoded data removed]",
            "text/plain": [
              "<Figure size 1260x720 with 2 Axes>"
            ]
          },
          "metadata": {
            "tags": [],
            "needs_background": "light"
          }
        }
      ]
    },
    {
      "cell_type": "code",
      "metadata": {
        "id": "7YtmIMRm6mLq",
        "colab": {
          "base_uri": "https://localhost:8080/"
        },
        "outputId": "959bdb6d-cc5c-4bbf-8143-77f9bcc55c32"
      },
      "source": [
        "imageMetaData.groupby('Patient ID')['Image Index'].count().sort_values(ascending=False)"
      ],
      "execution_count": 216,
      "outputs": [
        {
          "output_type": "execute_result",
          "data": {
            "text/plain": [
              "Patient ID\n",
              "10007    184\n",
              "13670    173\n",
              "15530    158\n",
              "12834    157\n",
              "13993    143\n",
              "        ... \n",
              "18797      1\n",
              "18798      1\n",
              "18799      1\n",
              "18800      1\n",
              "15403      1\n",
              "Name: Image Index, Length: 30805, dtype: int64"
            ]
          },
          "metadata": {
            "tags": []
          },
          "execution_count": 216
        }
      ]
    },
    {
      "cell_type": "code",
      "metadata": {
        "id": "RzW07R6-L2pd",
        "colab": {
          "base_uri": "https://localhost:8080/"
        },
        "outputId": "9a919ad9-d6a2-4cd1-e62d-2c55bd6e5a3f"
      },
      "source": [
        "# Various diagnoses given to the same patient (3 patients isolated from the list based on their id)\r\n",
        "print(\"Patient number 10007: No. of diagnosis: %d\" %(len(imageMetaData[imageMetaData['Patient ID'] == 10007]['Finding Labels'].unique())))\r\n",
        "print(\"Patient number 12834: No. of diagnosis: %d\" %(len(imageMetaData[imageMetaData['Patient ID'] == 12834]['Finding Labels'].unique())))\r\n",
        "print(\"Patient number 13993: No. of diagnosis: %d\" %(len(imageMetaData[imageMetaData['Patient ID'] == 13993]['Finding Labels'].unique())))"
      ],
      "execution_count": 217,
      "outputs": [
        {
          "output_type": "stream",
          "text": [
            "Patient number 10007: No. of diagnosis: 9\n",
            "Patient number 12834: No. of diagnosis: 11\n",
            "Patient number 13993: No. of diagnosis: 8\n"
          ],
          "name": "stdout"
        }
      ]
    },
    {
      "cell_type": "code",
      "metadata": {
        "id": "PnMHtpXyPkpT",
        "colab": {
          "base_uri": "https://localhost:8080/",
          "height": 197
        },
        "outputId": "747a6951-9adb-4ca2-8e4b-0964ce205424"
      },
      "source": [
        "imageMetaData = imageMetaData[['Image Index','Patient ID','Finding Labels']]\r\n",
        "imageMetaData = imageMetaData.set_index(np.arange(len(imageMetaData)))\r\n",
        "imageMetaData.head()"
      ],
      "execution_count": 218,
      "outputs": [
        {
          "output_type": "execute_result",
          "data": {
            "text/html": [
              "<div>\n",
              "<style scoped>\n",
              "    .dataframe tbody tr th:only-of-type {\n",
              "        vertical-align: middle;\n",
              "    }\n",
              "\n",
              "    .dataframe tbody tr th {\n",
              "        vertical-align: top;\n",
              "    }\n",
              "\n",
              "    .dataframe thead th {\n",
              "        text-align: right;\n",
              "    }\n",
              "</style>\n",
              "<table border=\"1\" class=\"dataframe\">\n",
              "  <thead>\n",
              "    <tr style=\"text-align: right;\">\n",
              "      <th></th>\n",
              "      <th>Image Index</th>\n",
              "      <th>Patient ID</th>\n",
              "      <th>Finding Labels</th>\n",
              "    </tr>\n",
              "  </thead>\n",
              "  <tbody>\n",
              "    <tr>\n",
              "      <th>0</th>\n",
              "      <td>00000001_000.png</td>\n",
              "      <td>1</td>\n",
              "      <td>Cardiomegaly</td>\n",
              "    </tr>\n",
              "    <tr>\n",
              "      <th>1</th>\n",
              "      <td>00000001_001.png</td>\n",
              "      <td>1</td>\n",
              "      <td>Cardiomegaly</td>\n",
              "    </tr>\n",
              "    <tr>\n",
              "      <th>2</th>\n",
              "      <td>00000001_002.png</td>\n",
              "      <td>1</td>\n",
              "      <td>Cardiomegaly</td>\n",
              "    </tr>\n",
              "    <tr>\n",
              "      <th>3</th>\n",
              "      <td>00000002_000.png</td>\n",
              "      <td>2</td>\n",
              "      <td>No Finding</td>\n",
              "    </tr>\n",
              "    <tr>\n",
              "      <th>4</th>\n",
              "      <td>00000003_001.png</td>\n",
              "      <td>3</td>\n",
              "      <td>Hernia</td>\n",
              "    </tr>\n",
              "  </tbody>\n",
              "</table>\n",
              "</div>"
            ],
            "text/plain": [
              "        Image Index  Patient ID Finding Labels\n",
              "0  00000001_000.png           1   Cardiomegaly\n",
              "1  00000001_001.png           1   Cardiomegaly\n",
              "2  00000001_002.png           1   Cardiomegaly\n",
              "3  00000002_000.png           2     No Finding\n",
              "4  00000003_001.png           3         Hernia"
            ]
          },
          "metadata": {
            "tags": []
          },
          "execution_count": 218
        }
      ]
    },
    {
      "cell_type": "code",
      "metadata": {
        "id": "7YAoBr7WK5i4",
        "colab": {
          "base_uri": "https://localhost:8080/"
        },
        "outputId": "e46e0b9f-5230-4394-e800-27dec42c2558"
      },
      "source": [
        "labels = imageMetaData['Finding Labels'].value_counts().sort_values(ascending=False)\r\n",
        "labels"
      ],
      "execution_count": 219,
      "outputs": [
        {
          "output_type": "execute_result",
          "data": {
            "text/plain": [
              "No Finding            60361\n",
              "Infiltration          11795\n",
              "Atelectasis           11545\n",
              "Effusion               8040\n",
              "Consolidation          3331\n",
              "Nodule                 3009\n",
              "Mass                   2926\n",
              "Cardiomegaly           2404\n",
              "Pneumothorax           2200\n",
              "Edema                  1862\n",
              "Emphysema              1734\n",
              "Pleural_Thickening     1217\n",
              "Fibrosis               1215\n",
              "Pneumonia               325\n",
              "Hernia                  156\n",
              "Name: Finding Labels, dtype: int64"
            ]
          },
          "metadata": {
            "tags": []
          },
          "execution_count": 219
        }
      ]
    },
    {
      "cell_type": "code",
      "metadata": {
        "id": "wWxndsVIqZYA",
        "colab": {
          "base_uri": "https://localhost:8080/",
          "height": 512
        },
        "outputId": "a1ba3f89-ff8f-4d3f-c431-f6894fba0b50"
      },
      "source": [
        "plt.subplots(figsize=(14,7))\r\n",
        "labels.plot(kind='bar');"
      ],
      "execution_count": 220,
      "outputs": [
        {
          "output_type": "display_data",
          "data": {
            "image/png": "[encoded data removed]",
            "text/plain": [
              "<Figure size 1008x504 with 1 Axes>"
            ]
          },
          "metadata": {
            "tags": [],
            "needs_background": "light"
          }
        }
      ]
    },
    {
      "cell_type": "code",
      "metadata": {
        "id": "j6Z0k5rf0Ivh",
        "colab": {
          "base_uri": "https://localhost:8080/",
          "height": 197
        },
        "outputId": "70302906-96f7-49b9-bb0d-81271021d0a7"
      },
      "source": [
        "imageMetaData = imageMetaData.rename(columns={\"Image Index\": \"image_path\", \"Patient ID\": \"patient_id\", \"Finding Labels\": \"labels\"})\r\n",
        "imageMetaData.head()"
      ],
      "execution_count": 221,
      "outputs": [
        {
          "output_type": "execute_result",
          "data": {
            "text/html": [
              "<div>\n",
              "<style scoped>\n",
              "    .dataframe tbody tr th:only-of-type {\n",
              "        vertical-align: middle;\n",
              "    }\n",
              "\n",
              "    .dataframe tbody tr th {\n",
              "        vertical-align: top;\n",
              "    }\n",
              "\n",
              "    .dataframe thead th {\n",
              "        text-align: right;\n",
              "    }\n",
              "</style>\n",
              "<table border=\"1\" class=\"dataframe\">\n",
              "  <thead>\n",
              "    <tr style=\"text-align: right;\">\n",
              "      <th></th>\n",
              "      <th>image_path</th>\n",
              "      <th>patient_id</th>\n",
              "      <th>labels</th>\n",
              "    </tr>\n",
              "  </thead>\n",
              "  <tbody>\n",
              "    <tr>\n",
              "      <th>0</th>\n",
              "      <td>00000001_000.png</td>\n",
              "      <td>1</td>\n",
              "      <td>Cardiomegaly</td>\n",
              "    </tr>\n",
              "    <tr>\n",
              "      <th>1</th>\n",
              "      <td>00000001_001.png</td>\n",
              "      <td>1</td>\n",
              "      <td>Cardiomegaly</td>\n",
              "    </tr>\n",
              "    <tr>\n",
              "      <th>2</th>\n",
              "      <td>00000001_002.png</td>\n",
              "      <td>1</td>\n",
              "      <td>Cardiomegaly</td>\n",
              "    </tr>\n",
              "    <tr>\n",
              "      <th>3</th>\n",
              "      <td>00000002_000.png</td>\n",
              "      <td>2</td>\n",
              "      <td>No Finding</td>\n",
              "    </tr>\n",
              "    <tr>\n",
              "      <th>4</th>\n",
              "      <td>00000003_001.png</td>\n",
              "      <td>3</td>\n",
              "      <td>Hernia</td>\n",
              "    </tr>\n",
              "  </tbody>\n",
              "</table>\n",
              "</div>"
            ],
            "text/plain": [
              "         image_path  patient_id        labels\n",
              "0  00000001_000.png           1  Cardiomegaly\n",
              "1  00000001_001.png           1  Cardiomegaly\n",
              "2  00000001_002.png           1  Cardiomegaly\n",
              "3  00000002_000.png           2    No Finding\n",
              "4  00000003_001.png           3        Hernia"
            ]
          },
          "metadata": {
            "tags": []
          },
          "execution_count": 221
        }
      ]
    },
    {
      "cell_type": "code",
      "metadata": {
        "id": "nsaUU2cGcUPq",
        "colab": {
          "base_uri": "https://localhost:8080/",
          "height": 215
        },
        "outputId": "4ea21a83-1620-419f-a5a1-80334515ccc6"
      },
      "source": [
        "train_val = pd.read_csv(\"train_val_list.txt\", header=None)\r\n",
        "print(\"Number of images: \", train_val.shape[0])\r\n",
        "train_val.head()"
      ],
      "execution_count": 222,
      "outputs": [
        {
          "output_type": "stream",
          "text": [
            "Number of images:  86524\n"
          ],
          "name": "stdout"
        },
        {
          "output_type": "execute_result",
          "data": {
            "text/html": [
              "<div>\n",
              "<style scoped>\n",
              "    .dataframe tbody tr th:only-of-type {\n",
              "        vertical-align: middle;\n",
              "    }\n",
              "\n",
              "    .dataframe tbody tr th {\n",
              "        vertical-align: top;\n",
              "    }\n",
              "\n",
              "    .dataframe thead th {\n",
              "        text-align: right;\n",
              "    }\n",
              "</style>\n",
              "<table border=\"1\" class=\"dataframe\">\n",
              "  <thead>\n",
              "    <tr style=\"text-align: right;\">\n",
              "      <th></th>\n",
              "      <th>0</th>\n",
              "    </tr>\n",
              "  </thead>\n",
              "  <tbody>\n",
              "    <tr>\n",
              "      <th>0</th>\n",
              "      <td>00000001_000.png</td>\n",
              "    </tr>\n",
              "    <tr>\n",
              "      <th>1</th>\n",
              "      <td>00000001_001.png</td>\n",
              "    </tr>\n",
              "    <tr>\n",
              "      <th>2</th>\n",
              "      <td>00000001_002.png</td>\n",
              "    </tr>\n",
              "    <tr>\n",
              "      <th>3</th>\n",
              "      <td>00000002_000.png</td>\n",
              "    </tr>\n",
              "    <tr>\n",
              "      <th>4</th>\n",
              "      <td>00000004_000.png</td>\n",
              "    </tr>\n",
              "  </tbody>\n",
              "</table>\n",
              "</div>"
            ],
            "text/plain": [
              "                  0\n",
              "0  00000001_000.png\n",
              "1  00000001_001.png\n",
              "2  00000001_002.png\n",
              "3  00000002_000.png\n",
              "4  00000004_000.png"
            ]
          },
          "metadata": {
            "tags": []
          },
          "execution_count": 222
        }
      ]
    },
    {
      "cell_type": "code",
      "metadata": {
        "id": "1LxI2taBdO4E",
        "colab": {
          "base_uri": "https://localhost:8080/",
          "height": 215
        },
        "outputId": "ced9c382-165b-4f3a-ae2a-0cdab1e1df0e"
      },
      "source": [
        "test = pd.read_csv(\"test_list.txt\", header=None)\r\n",
        "print(\"Number of images: \", test.shape[0])\r\n",
        "test.head()"
      ],
      "execution_count": 223,
      "outputs": [
        {
          "output_type": "stream",
          "text": [
            "Number of images:  25596\n"
          ],
          "name": "stdout"
        },
        {
          "output_type": "execute_result",
          "data": {
            "text/html": [
              "<div>\n",
              "<style scoped>\n",
              "    .dataframe tbody tr th:only-of-type {\n",
              "        vertical-align: middle;\n",
              "    }\n",
              "\n",
              "    .dataframe tbody tr th {\n",
              "        vertical-align: top;\n",
              "    }\n",
              "\n",
              "    .dataframe thead th {\n",
              "        text-align: right;\n",
              "    }\n",
              "</style>\n",
              "<table border=\"1\" class=\"dataframe\">\n",
              "  <thead>\n",
              "    <tr style=\"text-align: right;\">\n",
              "      <th></th>\n",
              "      <th>0</th>\n",
              "    </tr>\n",
              "  </thead>\n",
              "  <tbody>\n",
              "    <tr>\n",
              "      <th>0</th>\n",
              "      <td>00000003_000.png</td>\n",
              "    </tr>\n",
              "    <tr>\n",
              "      <th>1</th>\n",
              "      <td>00000003_001.png</td>\n",
              "    </tr>\n",
              "    <tr>\n",
              "      <th>2</th>\n",
              "      <td>00000003_002.png</td>\n",
              "    </tr>\n",
              "    <tr>\n",
              "      <th>3</th>\n",
              "      <td>00000003_003.png</td>\n",
              "    </tr>\n",
              "    <tr>\n",
              "      <th>4</th>\n",
              "      <td>00000003_004.png</td>\n",
              "    </tr>\n",
              "  </tbody>\n",
              "</table>\n",
              "</div>"
            ],
            "text/plain": [
              "                  0\n",
              "0  00000003_000.png\n",
              "1  00000003_001.png\n",
              "2  00000003_002.png\n",
              "3  00000003_003.png\n",
              "4  00000003_004.png"
            ]
          },
          "metadata": {
            "tags": []
          },
          "execution_count": 223
        }
      ]
    },
    {
      "cell_type": "code",
      "metadata": {
        "id": "Ic7FS-ydd31N",
        "colab": {
          "base_uri": "https://localhost:8080/"
        },
        "outputId": "ab1084d5-714c-4ce4-c847-c76efed40883"
      },
      "source": [
        "test.shape[0] + train_val.shape[0]"
      ],
      "execution_count": 224,
      "outputs": [
        {
          "output_type": "execute_result",
          "data": {
            "text/plain": [
              "112120"
            ]
          },
          "metadata": {
            "tags": []
          },
          "execution_count": 224
        }
      ]
    },
    {
      "cell_type": "code",
      "metadata": {
        "id": "NUYW7JSPeqfJ",
        "colab": {
          "base_uri": "https://localhost:8080/"
        },
        "outputId": "c3239876-26c5-464b-9f8a-1a230c636486"
      },
      "source": [
        "maskTrainVal = imageMetaData['image_path'].isin(train_val[0])\r\n",
        "trainValImageMetaData = imageMetaData[maskTrainVal]\r\n",
        "trainValImageMetaData = trainValImageMetaData.set_index(np.arange(len(trainValImageMetaData)))\r\n",
        "trainValImageMetaData.shape[0]"
      ],
      "execution_count": 225,
      "outputs": [
        {
          "output_type": "execute_result",
          "data": {
            "text/plain": [
              "86524"
            ]
          },
          "metadata": {
            "tags": []
          },
          "execution_count": 225
        }
      ]
    },
    {
      "cell_type": "code",
      "metadata": {
        "id": "QAC3WpfXFk5H",
        "colab": {
          "base_uri": "https://localhost:8080/",
          "height": 512
        },
        "outputId": "e0699a23-3cd0-4ee6-a83b-041f4440f6a2"
      },
      "source": [
        "plt.subplots(figsize=(14,7))\r\n",
        "trainValImageMetaData.labels.value_counts().sort_values(ascending=False).plot(kind=\"bar\");"
      ],
      "execution_count": 226,
      "outputs": [
        {
          "output_type": "display_data",
          "data": {
            "image/png": "[encoded data removed]",
            "text/plain": [
              "<Figure size 1008x504 with 1 Axes>"
            ]
          },
          "metadata": {
            "tags": [],
            "needs_background": "light"
          }
        }
      ]
    },
    {
      "cell_type": "code",
      "metadata": {
        "id": "1iTWeE6h5_34",
        "colab": {
          "base_uri": "https://localhost:8080/",
          "height": 197
        },
        "outputId": "86a0054e-4006-47ab-ea3b-070e971d8d61"
      },
      "source": [
        "trainValImageMetaData.head()"
      ],
      "execution_count": 227,
      "outputs": [
        {
          "output_type": "execute_result",
          "data": {
            "text/html": [
              "<div>\n",
              "<style scoped>\n",
              "    .dataframe tbody tr th:only-of-type {\n",
              "        vertical-align: middle;\n",
              "    }\n",
              "\n",
              "    .dataframe tbody tr th {\n",
              "        vertical-align: top;\n",
              "    }\n",
              "\n",
              "    .dataframe thead th {\n",
              "        text-align: right;\n",
              "    }\n",
              "</style>\n",
              "<table border=\"1\" class=\"dataframe\">\n",
              "  <thead>\n",
              "    <tr style=\"text-align: right;\">\n",
              "      <th></th>\n",
              "      <th>image_path</th>\n",
              "      <th>patient_id</th>\n",
              "      <th>labels</th>\n",
              "    </tr>\n",
              "  </thead>\n",
              "  <tbody>\n",
              "    <tr>\n",
              "      <th>0</th>\n",
              "      <td>00000001_000.png</td>\n",
              "      <td>1</td>\n",
              "      <td>Cardiomegaly</td>\n",
              "    </tr>\n",
              "    <tr>\n",
              "      <th>1</th>\n",
              "      <td>00000001_001.png</td>\n",
              "      <td>1</td>\n",
              "      <td>Cardiomegaly</td>\n",
              "    </tr>\n",
              "    <tr>\n",
              "      <th>2</th>\n",
              "      <td>00000001_002.png</td>\n",
              "      <td>1</td>\n",
              "      <td>Cardiomegaly</td>\n",
              "    </tr>\n",
              "    <tr>\n",
              "      <th>3</th>\n",
              "      <td>00000002_000.png</td>\n",
              "      <td>2</td>\n",
              "      <td>No Finding</td>\n",
              "    </tr>\n",
              "    <tr>\n",
              "      <th>4</th>\n",
              "      <td>00000004_000.png</td>\n",
              "      <td>4</td>\n",
              "      <td>Mass</td>\n",
              "    </tr>\n",
              "  </tbody>\n",
              "</table>\n",
              "</div>"
            ],
            "text/plain": [
              "         image_path  patient_id        labels\n",
              "0  00000001_000.png           1  Cardiomegaly\n",
              "1  00000001_001.png           1  Cardiomegaly\n",
              "2  00000001_002.png           1  Cardiomegaly\n",
              "3  00000002_000.png           2    No Finding\n",
              "4  00000004_000.png           4          Mass"
            ]
          },
          "metadata": {
            "tags": []
          },
          "execution_count": 227
        }
      ]
    },
    {
      "cell_type": "code",
      "metadata": {
        "colab": {
          "base_uri": "https://localhost:8080/"
        },
        "id": "VGD372lv1d6Y",
        "outputId": "20b2b325-59a1-4b69-fad7-f19bce949350"
      },
      "source": [
        "from sklearn.model_selection import train_test_split\r\n",
        "\r\n",
        "patientIndices = list(range(len(trainValImageMetaData.patient_id)))\r\n",
        "\r\n",
        "trainValImageMetaData = trainValImageMetaData.set_index('patient_id')\r\n",
        "\r\n",
        "trainIndices, validIndices = train_test_split(patientIndices, test_size=0.2, stratify=trainValImageMetaData.labels)\r\n",
        "\r\n",
        "trainImageMetaData = trainValImageMetaData.iloc[trainIndices, :]\r\n",
        "validImageMetaData = trainValImageMetaData.iloc[validIndices, :]\r\n",
        "\r\n",
        "print(trainImageMetaData.shape)\r\n",
        "print(validImageMetaData.shape)"
      ],
      "execution_count": 228,
      "outputs": [
        {
          "output_type": "stream",
          "text": [
            "(69219, 2)\n",
            "(17305, 2)\n"
          ],
          "name": "stdout"
        }
      ]
    },
    {
      "cell_type": "code",
      "metadata": {
        "colab": {
          "base_uri": "https://localhost:8080/",
          "height": 512
        },
        "id": "6TZzPWQV6jSA",
        "outputId": "1b6da98c-d283-4449-86b9-4e5fed9bf1fe"
      },
      "source": [
        "plt.subplots(figsize=(14,7))\r\n",
        "trainImageMetaData.labels.value_counts().sort_values(ascending=False).plot(kind=\"bar\");"
      ],
      "execution_count": 229,
      "outputs": [
        {
          "output_type": "display_data",
          "data": {
            "image/png": "[encoded data removed]",
            "text/plain": [
              "<Figure size 1008x504 with 1 Axes>"
            ]
          },
          "metadata": {
            "tags": [],
            "needs_background": "light"
          }
        }
      ]
    },
    {
      "cell_type": "code",
      "metadata": {
        "colab": {
          "base_uri": "https://localhost:8080/",
          "height": 197
        },
        "id": "_VySd1N08Cu4",
        "outputId": "6aba8079-b0b5-4e59-e79f-c7f266f1f46d"
      },
      "source": [
        "trainImageMetaData = trainImageMetaData.set_index(np.arange(len(trainImageMetaData)))\r\n",
        "trainImageMetaData.head()"
      ],
      "execution_count": 230,
      "outputs": [
        {
          "output_type": "execute_result",
          "data": {
            "text/html": [
              "<div>\n",
              "<style scoped>\n",
              "    .dataframe tbody tr th:only-of-type {\n",
              "        vertical-align: middle;\n",
              "    }\n",
              "\n",
              "    .dataframe tbody tr th {\n",
              "        vertical-align: top;\n",
              "    }\n",
              "\n",
              "    .dataframe thead th {\n",
              "        text-align: right;\n",
              "    }\n",
              "</style>\n",
              "<table border=\"1\" class=\"dataframe\">\n",
              "  <thead>\n",
              "    <tr style=\"text-align: right;\">\n",
              "      <th></th>\n",
              "      <th>image_path</th>\n",
              "      <th>labels</th>\n",
              "    </tr>\n",
              "  </thead>\n",
              "  <tbody>\n",
              "    <tr>\n",
              "      <th>0</th>\n",
              "      <td>00002954_005.png</td>\n",
              "      <td>No Finding</td>\n",
              "    </tr>\n",
              "    <tr>\n",
              "      <th>1</th>\n",
              "      <td>00017700_000.png</td>\n",
              "      <td>No Finding</td>\n",
              "    </tr>\n",
              "    <tr>\n",
              "      <th>2</th>\n",
              "      <td>00012233_005.png</td>\n",
              "      <td>Pneumothorax</td>\n",
              "    </tr>\n",
              "    <tr>\n",
              "      <th>3</th>\n",
              "      <td>00007354_010.png</td>\n",
              "      <td>Infiltration</td>\n",
              "    </tr>\n",
              "    <tr>\n",
              "      <th>4</th>\n",
              "      <td>00008191_001.png</td>\n",
              "      <td>Atelectasis</td>\n",
              "    </tr>\n",
              "  </tbody>\n",
              "</table>\n",
              "</div>"
            ],
            "text/plain": [
              "         image_path        labels\n",
              "0  00002954_005.png    No Finding\n",
              "1  00017700_000.png    No Finding\n",
              "2  00012233_005.png  Pneumothorax\n",
              "3  00007354_010.png  Infiltration\n",
              "4  00008191_001.png   Atelectasis"
            ]
          },
          "metadata": {
            "tags": []
          },
          "execution_count": 230
        }
      ]
    },
    {
      "cell_type": "code",
      "metadata": {
        "colab": {
          "base_uri": "https://localhost:8080/",
          "height": 512
        },
        "id": "HUaGLxdf6pWJ",
        "outputId": "af13f30b-b7ae-4828-8b12-efd74a7af704"
      },
      "source": [
        "plt.subplots(figsize=(14,7))\r\n",
        "validImageMetaData.labels.value_counts().sort_values(ascending=False).plot(kind=\"bar\");"
      ],
      "execution_count": 231,
      "outputs": [
        {
          "output_type": "display_data",
          "data": {
            "image/png": "[encoded data removed]",
            "text/plain": [
              "<Figure size 1008x504 with 1 Axes>"
            ]
          },
          "metadata": {
            "tags": [],
            "needs_background": "light"
          }
        }
      ]
    },
    {
      "cell_type": "code",
      "metadata": {
        "colab": {
          "base_uri": "https://localhost:8080/",
          "height": 197
        },
        "id": "wwy0OVIq8bDf",
        "outputId": "be16b804-e1f1-4346-e9f6-9fbcc6e9ec75"
      },
      "source": [
        "validImageMetaData = validImageMetaData.set_index(np.arange(len(validImageMetaData)))\r\n",
        "validImageMetaData.head()"
      ],
      "execution_count": 232,
      "outputs": [
        {
          "output_type": "execute_result",
          "data": {
            "text/html": [
              "<div>\n",
              "<style scoped>\n",
              "    .dataframe tbody tr th:only-of-type {\n",
              "        vertical-align: middle;\n",
              "    }\n",
              "\n",
              "    .dataframe tbody tr th {\n",
              "        vertical-align: top;\n",
              "    }\n",
              "\n",
              "    .dataframe thead th {\n",
              "        text-align: right;\n",
              "    }\n",
              "</style>\n",
              "<table border=\"1\" class=\"dataframe\">\n",
              "  <thead>\n",
              "    <tr style=\"text-align: right;\">\n",
              "      <th></th>\n",
              "      <th>image_path</th>\n",
              "      <th>labels</th>\n",
              "    </tr>\n",
              "  </thead>\n",
              "  <tbody>\n",
              "    <tr>\n",
              "      <th>0</th>\n",
              "      <td>00003308_002.png</td>\n",
              "      <td>No Finding</td>\n",
              "    </tr>\n",
              "    <tr>\n",
              "      <th>1</th>\n",
              "      <td>00016621_000.png</td>\n",
              "      <td>Pleural_Thickening</td>\n",
              "    </tr>\n",
              "    <tr>\n",
              "      <th>2</th>\n",
              "      <td>00028811_002.png</td>\n",
              "      <td>Effusion</td>\n",
              "    </tr>\n",
              "    <tr>\n",
              "      <th>3</th>\n",
              "      <td>00017044_008.png</td>\n",
              "      <td>Consolidation</td>\n",
              "    </tr>\n",
              "    <tr>\n",
              "      <th>4</th>\n",
              "      <td>00020703_023.png</td>\n",
              "      <td>No Finding</td>\n",
              "    </tr>\n",
              "  </tbody>\n",
              "</table>\n",
              "</div>"
            ],
            "text/plain": [
              "         image_path              labels\n",
              "0  00003308_002.png          No Finding\n",
              "1  00016621_000.png  Pleural_Thickening\n",
              "2  00028811_002.png            Effusion\n",
              "3  00017044_008.png       Consolidation\n",
              "4  00020703_023.png          No Finding"
            ]
          },
          "metadata": {
            "tags": []
          },
          "execution_count": 232
        }
      ]
    },
    {
      "cell_type": "code",
      "metadata": {
        "id": "Bxw2mwwxfnEm",
        "colab": {
          "base_uri": "https://localhost:8080/"
        },
        "outputId": "a0a81755-341d-4899-e875-2146217d448c"
      },
      "source": [
        "maskTest = imageMetaData['image_path'].isin(test[0])\r\n",
        "testImageMetaData = imageMetaData[maskTest]\r\n",
        "testImageMetaData = testImageMetaData.set_index(np.arange(len(testImageMetaData)))\r\n",
        "testImageMetaData.shape[0]"
      ],
      "execution_count": 233,
      "outputs": [
        {
          "output_type": "execute_result",
          "data": {
            "text/plain": [
              "25596"
            ]
          },
          "metadata": {
            "tags": []
          },
          "execution_count": 233
        }
      ]
    },
    {
      "cell_type": "code",
      "metadata": {
        "id": "6-qK1GksGNzw",
        "colab": {
          "base_uri": "https://localhost:8080/",
          "height": 512
        },
        "outputId": "58e678e3-8c0d-4603-eac7-5cd316affcbb"
      },
      "source": [
        "plt.subplots(figsize=(14,7))\r\n",
        "testImageMetaData.labels.value_counts().sort_values(ascending=False).plot(kind=\"bar\");"
      ],
      "execution_count": 234,
      "outputs": [
        {
          "output_type": "display_data",
          "data": {
            "image/png": "[encoded data removed]",
            "text/plain": [
              "<Figure size 1008x504 with 1 Axes>"
            ]
          },
          "metadata": {
            "tags": [],
            "needs_background": "light"
          }
        }
      ]
    },
    {
      "cell_type": "code",
      "metadata": {
        "id": "70yD0BB56ErI",
        "colab": {
          "base_uri": "https://localhost:8080/",
          "height": 197
        },
        "outputId": "5a4c3776-380d-403a-eda9-533d546d02e7"
      },
      "source": [
        "testImageMetaData = testImageMetaData[['image_path','labels']]\r\n",
        "testImageMetaData.head()"
      ],
      "execution_count": 235,
      "outputs": [
        {
          "output_type": "execute_result",
          "data": {
            "text/html": [
              "<div>\n",
              "<style scoped>\n",
              "    .dataframe tbody tr th:only-of-type {\n",
              "        vertical-align: middle;\n",
              "    }\n",
              "\n",
              "    .dataframe tbody tr th {\n",
              "        vertical-align: top;\n",
              "    }\n",
              "\n",
              "    .dataframe thead th {\n",
              "        text-align: right;\n",
              "    }\n",
              "</style>\n",
              "<table border=\"1\" class=\"dataframe\">\n",
              "  <thead>\n",
              "    <tr style=\"text-align: right;\">\n",
              "      <th></th>\n",
              "      <th>image_path</th>\n",
              "      <th>labels</th>\n",
              "    </tr>\n",
              "  </thead>\n",
              "  <tbody>\n",
              "    <tr>\n",
              "      <th>0</th>\n",
              "      <td>00000003_001.png</td>\n",
              "      <td>Hernia</td>\n",
              "    </tr>\n",
              "    <tr>\n",
              "      <th>1</th>\n",
              "      <td>00000003_002.png</td>\n",
              "      <td>Hernia</td>\n",
              "    </tr>\n",
              "    <tr>\n",
              "      <th>2</th>\n",
              "      <td>00000003_003.png</td>\n",
              "      <td>Hernia</td>\n",
              "    </tr>\n",
              "    <tr>\n",
              "      <th>3</th>\n",
              "      <td>00000003_004.png</td>\n",
              "      <td>Hernia</td>\n",
              "    </tr>\n",
              "    <tr>\n",
              "      <th>4</th>\n",
              "      <td>00000003_005.png</td>\n",
              "      <td>Hernia</td>\n",
              "    </tr>\n",
              "  </tbody>\n",
              "</table>\n",
              "</div>"
            ],
            "text/plain": [
              "         image_path  labels\n",
              "0  00000003_001.png  Hernia\n",
              "1  00000003_002.png  Hernia\n",
              "2  00000003_003.png  Hernia\n",
              "3  00000003_004.png  Hernia\n",
              "4  00000003_005.png  Hernia"
            ]
          },
          "metadata": {
            "tags": []
          },
          "execution_count": 235
        }
      ]
    },
    {
      "cell_type": "code",
      "metadata": {
        "id": "D6KwXjMezcxS",
        "colab": {
          "base_uri": "https://localhost:8080/"
        },
        "outputId": "edff26e4-d893-48d0-831f-66f75b8847ed"
      },
      "source": [
        "from google.colab import drive\r\n",
        "drive.mount('/content/drive')"
      ],
      "execution_count": 236,
      "outputs": [
        {
          "output_type": "stream",
          "text": [
            "Drive already mounted at /content/drive; to attempt to forcibly remount, call drive.mount(\"/content/drive\", force_remount=True).\n"
          ],
          "name": "stdout"
        }
      ]
    },
    {
      "cell_type": "code",
      "metadata": {
        "id": "CADhZB-_Mo8Y"
      },
      "source": [
        "trainImageMetaData.loc[:,'image_path'] = './content/images/' + trainImageMetaData['image_path'].astype(str)\r\n",
        "validImageMetaData.loc[:,'image_path'] = './content/images/' + validImageMetaData['image_path'].astype(str)\r\n",
        "testImageMetaData.loc[:,'image_path'] = './content/images/' + testImageMetaData['image_path'].astype(str)"
      ],
      "execution_count": 237,
      "outputs": []
    },
    {
      "cell_type": "code",
      "metadata": {
        "id": "x7ZwfHrdPmdU",
        "colab": {
          "base_uri": "https://localhost:8080/",
          "height": 197
        },
        "outputId": "089a4846-6cc1-438e-ed44-e979622adc51"
      },
      "source": [
        "trainImageMetaData.head()"
      ],
      "execution_count": 238,
      "outputs": [
        {
          "output_type": "execute_result",
          "data": {
            "text/html": [
              "<div>\n",
              "<style scoped>\n",
              "    .dataframe tbody tr th:only-of-type {\n",
              "        vertical-align: middle;\n",
              "    }\n",
              "\n",
              "    .dataframe tbody tr th {\n",
              "        vertical-align: top;\n",
              "    }\n",
              "\n",
              "    .dataframe thead th {\n",
              "        text-align: right;\n",
              "    }\n",
              "</style>\n",
              "<table border=\"1\" class=\"dataframe\">\n",
              "  <thead>\n",
              "    <tr style=\"text-align: right;\">\n",
              "      <th></th>\n",
              "      <th>image_path</th>\n",
              "      <th>labels</th>\n",
              "    </tr>\n",
              "  </thead>\n",
              "  <tbody>\n",
              "    <tr>\n",
              "      <th>0</th>\n",
              "      <td>./content/images/00002954_005.png</td>\n",
              "      <td>No Finding</td>\n",
              "    </tr>\n",
              "    <tr>\n",
              "      <th>1</th>\n",
              "      <td>./content/images/00017700_000.png</td>\n",
              "      <td>No Finding</td>\n",
              "    </tr>\n",
              "    <tr>\n",
              "      <th>2</th>\n",
              "      <td>./content/images/00012233_005.png</td>\n",
              "      <td>Pneumothorax</td>\n",
              "    </tr>\n",
              "    <tr>\n",
              "      <th>3</th>\n",
              "      <td>./content/images/00007354_010.png</td>\n",
              "      <td>Infiltration</td>\n",
              "    </tr>\n",
              "    <tr>\n",
              "      <th>4</th>\n",
              "      <td>./content/images/00008191_001.png</td>\n",
              "      <td>Atelectasis</td>\n",
              "    </tr>\n",
              "  </tbody>\n",
              "</table>\n",
              "</div>"
            ],
            "text/plain": [
              "                          image_path        labels\n",
              "0  ./content/images/00002954_005.png    No Finding\n",
              "1  ./content/images/00017700_000.png    No Finding\n",
              "2  ./content/images/00012233_005.png  Pneumothorax\n",
              "3  ./content/images/00007354_010.png  Infiltration\n",
              "4  ./content/images/00008191_001.png   Atelectasis"
            ]
          },
          "metadata": {
            "tags": []
          },
          "execution_count": 238
        }
      ]
    },
    {
      "cell_type": "code",
      "metadata": {
        "colab": {
          "base_uri": "https://localhost:8080/",
          "height": 197
        },
        "id": "Il5ZxTu79B-O",
        "outputId": "1c3606bd-efae-4957-b9aa-7b9c380cc45e"
      },
      "source": [
        "validImageMetaData.head()"
      ],
      "execution_count": 239,
      "outputs": [
        {
          "output_type": "execute_result",
          "data": {
            "text/html": [
              "<div>\n",
              "<style scoped>\n",
              "    .dataframe tbody tr th:only-of-type {\n",
              "        vertical-align: middle;\n",
              "    }\n",
              "\n",
              "    .dataframe tbody tr th {\n",
              "        vertical-align: top;\n",
              "    }\n",
              "\n",
              "    .dataframe thead th {\n",
              "        text-align: right;\n",
              "    }\n",
              "</style>\n",
              "<table border=\"1\" class=\"dataframe\">\n",
              "  <thead>\n",
              "    <tr style=\"text-align: right;\">\n",
              "      <th></th>\n",
              "      <th>image_path</th>\n",
              "      <th>labels</th>\n",
              "    </tr>\n",
              "  </thead>\n",
              "  <tbody>\n",
              "    <tr>\n",
              "      <th>0</th>\n",
              "      <td>./content/images/00003308_002.png</td>\n",
              "      <td>No Finding</td>\n",
              "    </tr>\n",
              "    <tr>\n",
              "      <th>1</th>\n",
              "      <td>./content/images/00016621_000.png</td>\n",
              "      <td>Pleural_Thickening</td>\n",
              "    </tr>\n",
              "    <tr>\n",
              "      <th>2</th>\n",
              "      <td>./content/images/00028811_002.png</td>\n",
              "      <td>Effusion</td>\n",
              "    </tr>\n",
              "    <tr>\n",
              "      <th>3</th>\n",
              "      <td>./content/images/00017044_008.png</td>\n",
              "      <td>Consolidation</td>\n",
              "    </tr>\n",
              "    <tr>\n",
              "      <th>4</th>\n",
              "      <td>./content/images/00020703_023.png</td>\n",
              "      <td>No Finding</td>\n",
              "    </tr>\n",
              "  </tbody>\n",
              "</table>\n",
              "</div>"
            ],
            "text/plain": [
              "                          image_path              labels\n",
              "0  ./content/images/00003308_002.png          No Finding\n",
              "1  ./content/images/00016621_000.png  Pleural_Thickening\n",
              "2  ./content/images/00028811_002.png            Effusion\n",
              "3  ./content/images/00017044_008.png       Consolidation\n",
              "4  ./content/images/00020703_023.png          No Finding"
            ]
          },
          "metadata": {
            "tags": []
          },
          "execution_count": 239
        }
      ]
    },
    {
      "cell_type": "code",
      "metadata": {
        "id": "0FL0xszZQTuq",
        "colab": {
          "base_uri": "https://localhost:8080/",
          "height": 197
        },
        "outputId": "821636d9-bf5f-44df-f1b8-ccfe88c57498"
      },
      "source": [
        "testImageMetaData.head()"
      ],
      "execution_count": 240,
      "outputs": [
        {
          "output_type": "execute_result",
          "data": {
            "text/html": [
              "<div>\n",
              "<style scoped>\n",
              "    .dataframe tbody tr th:only-of-type {\n",
              "        vertical-align: middle;\n",
              "    }\n",
              "\n",
              "    .dataframe tbody tr th {\n",
              "        vertical-align: top;\n",
              "    }\n",
              "\n",
              "    .dataframe thead th {\n",
              "        text-align: right;\n",
              "    }\n",
              "</style>\n",
              "<table border=\"1\" class=\"dataframe\">\n",
              "  <thead>\n",
              "    <tr style=\"text-align: right;\">\n",
              "      <th></th>\n",
              "      <th>image_path</th>\n",
              "      <th>labels</th>\n",
              "    </tr>\n",
              "  </thead>\n",
              "  <tbody>\n",
              "    <tr>\n",
              "      <th>0</th>\n",
              "      <td>./content/images/00000003_001.png</td>\n",
              "      <td>Hernia</td>\n",
              "    </tr>\n",
              "    <tr>\n",
              "      <th>1</th>\n",
              "      <td>./content/images/00000003_002.png</td>\n",
              "      <td>Hernia</td>\n",
              "    </tr>\n",
              "    <tr>\n",
              "      <th>2</th>\n",
              "      <td>./content/images/00000003_003.png</td>\n",
              "      <td>Hernia</td>\n",
              "    </tr>\n",
              "    <tr>\n",
              "      <th>3</th>\n",
              "      <td>./content/images/00000003_004.png</td>\n",
              "      <td>Hernia</td>\n",
              "    </tr>\n",
              "    <tr>\n",
              "      <th>4</th>\n",
              "      <td>./content/images/00000003_005.png</td>\n",
              "      <td>Hernia</td>\n",
              "    </tr>\n",
              "  </tbody>\n",
              "</table>\n",
              "</div>"
            ],
            "text/plain": [
              "                          image_path  labels\n",
              "0  ./content/images/00000003_001.png  Hernia\n",
              "1  ./content/images/00000003_002.png  Hernia\n",
              "2  ./content/images/00000003_003.png  Hernia\n",
              "3  ./content/images/00000003_004.png  Hernia\n",
              "4  ./content/images/00000003_005.png  Hernia"
            ]
          },
          "metadata": {
            "tags": []
          },
          "execution_count": 240
        }
      ]
    },
    {
      "cell_type": "code",
      "metadata": {
        "id": "aYxapHaI0GMQ"
      },
      "source": [
        "trainImageMetaData.to_csv('/content/drive/MyDrive/Colab Notebooks/datasets/nih-chest-x-ray-train.csv', sep=',')\r\n",
        "validImageMetaData.to_csv('/content/drive/MyDrive/Colab Notebooks/datasets/nih-chest-x-ray-valid.csv', sep=',')\r\n",
        "testImageMetaData.to_csv('/content/drive/MyDrive/Colab Notebooks/datasets/nih-chest-x-ray-test.csv', sep=',')"
      ],
      "execution_count": 241,
      "outputs": []
    },
    {
      "cell_type": "markdown",
      "metadata": {
        "id": "4jEZiKa5bkr8"
      },
      "source": [
        "# Preuzimanje skupa podataka (radiografskih snimaka) sa stranice [NIH](https://nihcc.app.box.com/v/ChestXray-NIHCC)."
      ]
    },
    {
      "cell_type": "code",
      "metadata": {
        "id": "M2XEVTLfF7IA"
      },
      "source": [
        "# Nikola Pujaz - Following script is modification of https://nihcc.app.box.com/v/ChestXray-NIHCC/file/371647823217\r\n",
        "\r\n",
        "#!/usr/bin/env python3\r\n",
        "# Download the 56 zip files in Images_png in batches\r\n",
        "\r\n",
        "import urllib.request\r\n",
        "import tarfile\r\n",
        "import os\r\n",
        "\r\n",
        "# URLs for the zip files\r\n",
        "links = [\r\n",
        "  'https://nihcc.box.com/shared/static/vfk49d74nhbxq3nqjg0900w5nvkorp5c.gz',\r\n",
        "  'https://nihcc.box.com/shared/static/i28rlmbvmfjbl8p2n3ril0pptcmcu9d1.gz',\r\n",
        "  'https://nihcc.box.com/shared/static/f1t00wrtdk94satdfb9olcolqx20z2jp.gz',\r\n",
        "\t'https://nihcc.box.com/shared/static/0aowwzs5lhjrceb3qp67ahp0rd1l1etg.gz',\r\n",
        "  'https://nihcc.box.com/shared/static/v5e3goj22zr6h8tzualxfsqlqaygfbsn.gz',\r\n",
        "\t'https://nihcc.box.com/shared/static/asi7ikud9jwnkrnkj99jnpfkjdes7l6l.gz',\r\n",
        "\t'https://nihcc.box.com/shared/static/jn1b4mw4n6lnh74ovmcjb8y48h8xj07n.gz',\r\n",
        "  'https://nihcc.box.com/shared/static/tvpxmn7qyrgl0w8wfh9kqfjskv6nmm1j.gz',\r\n",
        "\t'https://nihcc.box.com/shared/static/upyy3ml7qdumlgk2rfcvlb9k6gvqq2pj.gz',\r\n",
        "\t'https://nihcc.box.com/shared/static/l6nilvfa9cg3s28tqv1qc1olm3gnz54p.gz',\r\n",
        "\t'https://nihcc.box.com/shared/static/hhq8fkdgvcari67vfhs7ppg2w6ni4jze.gz',\r\n",
        "\t'https://nihcc.box.com/shared/static/ioqwiy20ihqwyr8pf4c24eazhh281pbu.gz'\r\n",
        "]\r\n",
        "# todo\r\n",
        "# @tf.function\r\n",
        "# def download_dataset(x, y):\r\n",
        "#     fname = 'images.tar.gz'\r\n",
        "#     urllib.request.urlretrieve(link, fname)  # download the zip file\r\n",
        "#     tar = tarfile.open(fname, \"r:gz\")\r\n",
        "#     tar.extractall()\r\n",
        "#     tar.close()\r\n",
        "#     os.remove(fname)\r\n",
        "\r\n",
        "for idx, link in enumerate(links):\r\n",
        "    fname = 'images_%02d.tar.gz' % (idx+1)\r\n",
        "    print('Downloading: ' + fname + ' ...')\r\n",
        "    urllib.request.urlretrieve(link, fname)  # download the zip file\r\n",
        "    tar = tarfile.open(fname, \"r:gz\")\r\n",
        "    tar.extractall()\r\n",
        "    tar.close()\r\n",
        "    print('Extracted: ' + fname)\r\n",
        "    os.remove(fname)\r\n",
        "    print('Removed: ' + fname)\r\n",
        "    print('---------------------------')\r\n",
        "\r\n",
        "print('Download complete.')"
      ],
      "execution_count": null,
      "outputs": []
    },
    {
      "cell_type": "code",
      "metadata": {
        "id": "cfOxVTgdbp8p"
      },
      "source": [
        "# number of images:\r\n",
        "!ls images | wc -l"
      ],
      "execution_count": null,
      "outputs": []
    },
    {
      "cell_type": "markdown",
      "metadata": {
        "id": "FBK0DzegGWT-"
      },
      "source": [
        "# Pretprocesiranje skupa podataka"
      ]
    },
    {
      "cell_type": "code",
      "metadata": {
        "id": "Qpsnr8YE2NtM"
      },
      "source": [
        "from PIL import Image\r\n",
        "\r\n",
        "main_directory = \"/content/images\"\r\n",
        "\r\n",
        "IMG_SIZE = (224, 224)\r\n",
        "\r\n",
        "for subdir, dirs, files in os.walk(main_directory):\r\n",
        "    for file in files:\r\n",
        "        filepath = os.path.join(subdir, file)\r\n",
        "\r\n",
        "        if filepath.endswith(\".png\"):\r\n",
        "            im = Image.open(filepath)\r\n",
        "            imResize = im.resize(IMG_SIZE, Image.ANTIALIAS)\r\n",
        "            imResize.save(filepath, quality=100)"
      ],
      "execution_count": null,
      "outputs": []
    },
    {
      "cell_type": "code",
      "metadata": {
        "id": "nouCkGOR-7Ad"
      },
      "source": [
        "# number of images:\r\n",
        "!ls images | wc -l"
      ],
      "execution_count": null,
      "outputs": []
    },
    {
      "cell_type": "code",
      "metadata": {
        "id": "x8WXmty-X8Ew"
      },
      "source": [
        "!zip -r -q images-nih-chest /content/images\r\n",
        "!cp images-nih-chest.zip /content/drive/MyDrive"
      ],
      "execution_count": null,
      "outputs": []
    }
  ]
}